{
 "cells": [
  {
   "cell_type": "code",
   "execution_count": 1,
   "metadata": {
    "collapsed": false
   },
   "outputs": [
    {
     "data": {
      "text/html": [
       "<style>.container { width:90% !important; }</style>"
      ],
      "text/plain": [
       "<IPython.core.display.HTML object>"
      ]
     },
     "metadata": {},
     "output_type": "display_data"
    }
   ],
   "source": [
    "from datetime import datetime, timedelta\n",
    "import itertools\n",
    "from IPython.display import clear_output\n",
    "from IPython.core.display import display, HTML\n",
    "display(HTML(\"<style>.container { width:90% !important; }</style>\"))\n",
    "import time\n",
    "import numpy as np\n",
    "import pandas as pd\n",
    "pd.options.display.max_columns = None\n",
    "pd.options.display.max_rows = None\n",
    "import matplotlib.pyplot as plt\n",
    "%matplotlib inline\n",
    "from collections import Counter, defaultdict\n",
    "import seaborn as sns\n",
    "import re"
   ]
  },
  {
   "cell_type": "markdown",
   "metadata": {},
   "source": [
    "### 读取数据\n",
    "- 6319 行\n",
    "- 31 列"
   ]
  },
  {
   "cell_type": "code",
   "execution_count": 2,
   "metadata": {
    "collapsed": false
   },
   "outputs": [
    {
     "name": "stdout",
     "output_type": "stream",
     "text": [
      "(6319, 31)\n"
     ]
    },
    {
     "data": {
      "text/html": [
       "<div>\n",
       "<style>\n",
       "    .dataframe thead tr:only-child th {\n",
       "        text-align: right;\n",
       "    }\n",
       "\n",
       "    .dataframe thead th {\n",
       "        text-align: left;\n",
       "    }\n",
       "\n",
       "    .dataframe tbody tr th {\n",
       "        vertical-align: top;\n",
       "    }\n",
       "</style>\n",
       "<table border=\"1\" class=\"dataframe\">\n",
       "  <thead>\n",
       "    <tr style=\"text-align: right;\">\n",
       "      <th></th>\n",
       "      <th>URL</th>\n",
       "      <th>state</th>\n",
       "      <th>city</th>\n",
       "      <th>zipcode</th>\n",
       "      <th>area</th>\n",
       "      <th>address</th>\n",
       "      <th>bet</th>\n",
       "      <th>bath</th>\n",
       "      <th>sqft</th>\n",
       "      <th>price</th>\n",
       "      <th>Zestimate</th>\n",
       "      <th>type</th>\n",
       "      <th>built</th>\n",
       "      <th>Parking</th>\n",
       "      <th>Lastremodel</th>\n",
       "      <th>color</th>\n",
       "      <th>roof</th>\n",
       "      <th>yard</th>\n",
       "      <th>HOA</th>\n",
       "      <th>views</th>\n",
       "      <th>shopper</th>\n",
       "      <th>year1</th>\n",
       "      <th>price1</th>\n",
       "      <th>year2</th>\n",
       "      <th>price2</th>\n",
       "      <th>year3</th>\n",
       "      <th>price3</th>\n",
       "      <th>year4</th>\n",
       "      <th>price4</th>\n",
       "      <th>year5</th>\n",
       "      <th>price5</th>\n",
       "    </tr>\n",
       "  </thead>\n",
       "  <tbody>\n",
       "    <tr>\n",
       "      <th>0</th>\n",
       "      <td>https://www.zillow.com/homedetails/34380-Newto...</td>\n",
       "      <td>California</td>\n",
       "      <td>Fremont</td>\n",
       "      <td>94555</td>\n",
       "      <td>Northgate</td>\n",
       "      <td>34380 Newton Court</td>\n",
       "      <td>4</td>\n",
       "      <td>1</td>\n",
       "      <td>1400.00</td>\n",
       "      <td>140000.0</td>\n",
       "      <td>986436.0</td>\n",
       "      <td>Single Family</td>\n",
       "      <td>1970</td>\n",
       "      <td>Garage - Attached</td>\n",
       "      <td>1970.0</td>\n",
       "      <td>NaN</td>\n",
       "      <td>NaN</td>\n",
       "      <td>NaN</td>\n",
       "      <td>NaN</td>\n",
       "      <td>NaN</td>\n",
       "      <td>NaN</td>\n",
       "      <td>06/01/99</td>\n",
       "      <td>292000.00</td>\n",
       "      <td>2/17/05</td>\n",
       "      <td>140000.0</td>\n",
       "      <td>NaN</td>\n",
       "      <td>NaN</td>\n",
       "      <td>NaN</td>\n",
       "      <td>NaN</td>\n",
       "      <td>NaN</td>\n",
       "      <td>NaN</td>\n",
       "    </tr>\n",
       "    <tr>\n",
       "      <th>1</th>\n",
       "      <td>https://www.zillow.com/homedetails/3909-Steven...</td>\n",
       "      <td>California</td>\n",
       "      <td>Fremont</td>\n",
       "      <td>94538</td>\n",
       "      <td>Downtown</td>\n",
       "      <td>39900 Fremont BoulevardApartment 302</td>\n",
       "      <td>2</td>\n",
       "      <td>2</td>\n",
       "      <td>1042.00</td>\n",
       "      <td>160000.0</td>\n",
       "      <td>535006.0</td>\n",
       "      <td>Condo</td>\n",
       "      <td>1972</td>\n",
       "      <td>No Data</td>\n",
       "      <td>1972.0</td>\n",
       "      <td>NaN</td>\n",
       "      <td>NaN</td>\n",
       "      <td>NaN</td>\n",
       "      <td>NaN</td>\n",
       "      <td>NaN</td>\n",
       "      <td>NaN</td>\n",
       "      <td>11/10/02</td>\n",
       "      <td>225000.00</td>\n",
       "      <td>04/28/17</td>\n",
       "      <td>160000.0</td>\n",
       "      <td>NaN</td>\n",
       "      <td>NaN</td>\n",
       "      <td>NaN</td>\n",
       "      <td>NaN</td>\n",
       "      <td>NaN</td>\n",
       "      <td>NaN</td>\n",
       "    </tr>\n",
       "  </tbody>\n",
       "</table>\n",
       "</div>"
      ],
      "text/plain": [
       "                                                 URL       state     city  \\\n",
       "0  https://www.zillow.com/homedetails/34380-Newto...  California  Fremont   \n",
       "1  https://www.zillow.com/homedetails/3909-Steven...  California  Fremont   \n",
       "\n",
       "  zipcode       area                               address bet bath     sqft  \\\n",
       "0   94555  Northgate                    34380 Newton Court   4    1  1400.00   \n",
       "1   94538   Downtown  39900 Fremont BoulevardApartment 302   2    2  1042.00   \n",
       "\n",
       "      price  Zestimate           type built            Parking  Lastremodel  \\\n",
       "0  140000.0   986436.0  Single Family  1970  Garage - Attached       1970.0   \n",
       "1  160000.0   535006.0          Condo  1972            No Data       1972.0   \n",
       "\n",
       "  color roof yard  HOA views  shopper     year1     price1     year2  \\\n",
       "0   NaN  NaN  NaN  NaN   NaN      NaN  06/01/99  292000.00   2/17/05   \n",
       "1   NaN  NaN  NaN  NaN   NaN      NaN  11/10/02  225000.00  04/28/17   \n",
       "\n",
       "     price2 year3 price3 year4 price4 year5 price5  \n",
       "0  140000.0   NaN    NaN   NaN    NaN   NaN    NaN  \n",
       "1  160000.0   NaN    NaN   NaN    NaN   NaN    NaN  "
      ]
     },
     "execution_count": 2,
     "metadata": {},
     "output_type": "execute_result"
    }
   ],
   "source": [
    "data = pd.read_csv(\"./Zillow-Fremont_数据交付_20170716.csv\")\n",
    "print data.shape\n",
    "data.head(2)"
   ]
  },
  {
   "cell_type": "markdown",
   "metadata": {},
   "source": [
    "### 特征值缺失情况\n",
    "- 有12个特征值缺失超过百分之60\n",
    "- 先保留缺失小于百分之60的特征值\n",
    "- 6319 行\n",
    "- 19 列"
   ]
  },
  {
   "cell_type": "code",
   "execution_count": 3,
   "metadata": {
    "collapsed": false
   },
   "outputs": [
    {
     "data": {
      "text/plain": [
       "<matplotlib.axes._subplots.AxesSubplot at 0x10c36f550>"
      ]
     },
     "execution_count": 3,
     "metadata": {},
     "output_type": "execute_result"
    },
    {
     "data": {
      "image/png": "[encoded data removed]",
      "text/plain": [
       "<matplotlib.figure.Figure at 0x10c36f390>"
      ]
     },
     "metadata": {},
     "output_type": "display_data"
    }
   ],
   "source": [
    "plt.figure(figsize=(10,10))\n",
    "sns.barplot(y=data.isnull().sum().index, x=data.isnull().sum().values*1.0 / data.shape[0])"
   ]
  },
  {
   "cell_type": "code",
   "execution_count": 4,
   "metadata": {
    "collapsed": false
   },
   "outputs": [
    {
     "name": "stdout",
     "output_type": "stream",
     "text": [
      "(6319, 19)\n"
     ]
    },
    {
     "data": {
      "text/html": [
       "<div>\n",
       "<style>\n",
       "    .dataframe thead tr:only-child th {\n",
       "        text-align: right;\n",
       "    }\n",
       "\n",
       "    .dataframe thead th {\n",
       "        text-align: left;\n",
       "    }\n",
       "\n",
       "    .dataframe tbody tr th {\n",
       "        vertical-align: top;\n",
       "    }\n",
       "</style>\n",
       "<table border=\"1\" class=\"dataframe\">\n",
       "  <thead>\n",
       "    <tr style=\"text-align: right;\">\n",
       "      <th></th>\n",
       "      <th>URL</th>\n",
       "      <th>state</th>\n",
       "      <th>city</th>\n",
       "      <th>zipcode</th>\n",
       "      <th>area</th>\n",
       "      <th>address</th>\n",
       "      <th>bet</th>\n",
       "      <th>bath</th>\n",
       "      <th>sqft</th>\n",
       "      <th>price</th>\n",
       "      <th>Zestimate</th>\n",
       "      <th>type</th>\n",
       "      <th>built</th>\n",
       "      <th>Parking</th>\n",
       "      <th>Lastremodel</th>\n",
       "      <th>year1</th>\n",
       "      <th>price1</th>\n",
       "      <th>year2</th>\n",
       "      <th>price2</th>\n",
       "    </tr>\n",
       "  </thead>\n",
       "  <tbody>\n",
       "    <tr>\n",
       "      <th>0</th>\n",
       "      <td>https://www.zillow.com/homedetails/34380-Newto...</td>\n",
       "      <td>California</td>\n",
       "      <td>Fremont</td>\n",
       "      <td>94555</td>\n",
       "      <td>Northgate</td>\n",
       "      <td>34380 Newton Court</td>\n",
       "      <td>4</td>\n",
       "      <td>1</td>\n",
       "      <td>1400.00</td>\n",
       "      <td>140000.0</td>\n",
       "      <td>986436.0</td>\n",
       "      <td>Single Family</td>\n",
       "      <td>1970</td>\n",
       "      <td>Garage - Attached</td>\n",
       "      <td>1970.0</td>\n",
       "      <td>06/01/99</td>\n",
       "      <td>292000.00</td>\n",
       "      <td>2/17/05</td>\n",
       "      <td>140000.0</td>\n",
       "    </tr>\n",
       "    <tr>\n",
       "      <th>1</th>\n",
       "      <td>https://www.zillow.com/homedetails/3909-Steven...</td>\n",
       "      <td>California</td>\n",
       "      <td>Fremont</td>\n",
       "      <td>94538</td>\n",
       "      <td>Downtown</td>\n",
       "      <td>39900 Fremont BoulevardApartment 302</td>\n",
       "      <td>2</td>\n",
       "      <td>2</td>\n",
       "      <td>1042.00</td>\n",
       "      <td>160000.0</td>\n",
       "      <td>535006.0</td>\n",
       "      <td>Condo</td>\n",
       "      <td>1972</td>\n",
       "      <td>No Data</td>\n",
       "      <td>1972.0</td>\n",
       "      <td>11/10/02</td>\n",
       "      <td>225000.00</td>\n",
       "      <td>04/28/17</td>\n",
       "      <td>160000.0</td>\n",
       "    </tr>\n",
       "  </tbody>\n",
       "</table>\n",
       "</div>"
      ],
      "text/plain": [
       "                                                 URL       state     city  \\\n",
       "0  https://www.zillow.com/homedetails/34380-Newto...  California  Fremont   \n",
       "1  https://www.zillow.com/homedetails/3909-Steven...  California  Fremont   \n",
       "\n",
       "  zipcode       area                               address bet bath     sqft  \\\n",
       "0   94555  Northgate                    34380 Newton Court   4    1  1400.00   \n",
       "1   94538   Downtown  39900 Fremont BoulevardApartment 302   2    2  1042.00   \n",
       "\n",
       "      price  Zestimate           type built            Parking  Lastremodel  \\\n",
       "0  140000.0   986436.0  Single Family  1970  Garage - Attached       1970.0   \n",
       "1  160000.0   535006.0          Condo  1972            No Data       1972.0   \n",
       "\n",
       "      year1     price1     year2    price2  \n",
       "0  06/01/99  292000.00   2/17/05  140000.0  \n",
       "1  11/10/02  225000.00  04/28/17  160000.0  "
      ]
     },
     "execution_count": 4,
     "metadata": {},
     "output_type": "execute_result"
    }
   ],
   "source": [
    "data = data.loc[:, data.isnull().sum().values*1.0 / data.shape[0] < 0.6]\n",
    "print data.shape\n",
    "data.head(2)"
   ]
  },
  {
   "cell_type": "markdown",
   "metadata": {},
   "source": [
    "### state"
   ]
  },
  {
   "cell_type": "code",
   "execution_count": 5,
   "metadata": {
    "collapsed": false
   },
   "outputs": [
    {
     "data": {
      "text/plain": [
       "Counter({nan: 2, 'California': 6317})"
      ]
     },
     "execution_count": 5,
     "metadata": {},
     "output_type": "execute_result"
    }
   ],
   "source": [
    "Counter(data.state)"
   ]
  },
  {
   "cell_type": "code",
   "execution_count": 6,
   "metadata": {
    "collapsed": false
   },
   "outputs": [
    {
     "name": "stdout",
     "output_type": "stream",
     "text": [
      "(6319, 19)\n",
      "(6317, 19)\n"
     ]
    }
   ],
   "source": [
    "print data.shape\n",
    "data = data.loc[data.state == \"California\", :]\n",
    "print data.shape"
   ]
  },
  {
   "cell_type": "markdown",
   "metadata": {},
   "source": [
    "### city"
   ]
  },
  {
   "cell_type": "code",
   "execution_count": 7,
   "metadata": {
    "collapsed": false
   },
   "outputs": [
    {
     "data": {
      "text/plain": [
       "Counter({'Fremont': 6317})"
      ]
     },
     "execution_count": 7,
     "metadata": {},
     "output_type": "execute_result"
    }
   ],
   "source": [
    "Counter(data.city)"
   ]
  },
  {
   "cell_type": "markdown",
   "metadata": {},
   "source": [
    "### zipcode"
   ]
  },
  {
   "cell_type": "code",
   "execution_count": 8,
   "metadata": {
    "collapsed": false
   },
   "outputs": [
    {
     "data": {
      "text/plain": [
       "Counter({'94536': 2129,\n",
       "         '94538': 1615,\n",
       "         '94539': 1442,\n",
       "         '94555': 1129,\n",
       "         '94560': 1,\n",
       "         '94587': 1})"
      ]
     },
     "execution_count": 8,
     "metadata": {},
     "output_type": "execute_result"
    }
   ],
   "source": [
    "Counter(data.zipcode)"
   ]
  },
  {
   "cell_type": "code",
   "execution_count": 9,
   "metadata": {
    "collapsed": false
   },
   "outputs": [
    {
     "name": "stdout",
     "output_type": "stream",
     "text": [
      "(6317, 19)\n",
      "(6315, 19)\n"
     ]
    }
   ],
   "source": [
    "print data.shape\n",
    "data = data.loc[[x in [\"94536\", \"94538\", \"94539\", \"94555\"] for x in data.zipcode], :]\n",
    "print data.shape"
   ]
  },
  {
   "cell_type": "markdown",
   "metadata": {},
   "source": [
    "### area"
   ]
  },
  {
   "cell_type": "code",
   "execution_count": 10,
   "metadata": {
    "collapsed": false
   },
   "outputs": [
    {
     "data": {
      "text/plain": [
       "Counter({'28 Palms': 114,\n",
       "         '28 Palms apartments': 1,\n",
       "         'Ardenwood': 511,\n",
       "         'Ardenwood apartments': 1,\n",
       "         'Ardenwood houses for rent': 3,\n",
       "         'Baylands': 1,\n",
       "         'Blacow': 212,\n",
       "         'Brookvale': 166,\n",
       "         'Cabrillo': 325,\n",
       "         'Cabrillo houses for rent': 1,\n",
       "         'Cameron Hills': 96,\n",
       "         'Canyon Heights': 102,\n",
       "         'Centerville': 466,\n",
       "         'Centerville apartments': 3,\n",
       "         'Centerville houses for rent': 1,\n",
       "         'Cherry-Guardino': 420,\n",
       "         'Cherry-Guardino apartments': 2,\n",
       "         'Downtown': 204,\n",
       "         'East Industrial': 98,\n",
       "         'Glenmoor': 355,\n",
       "         'Grimmer': 252,\n",
       "         'Grimmer houses for rent': 1,\n",
       "         'Irvington': 288,\n",
       "         'Irvington apartments': 1,\n",
       "         'Kimber-Gomes': 193,\n",
       "         'Lakes and Birds': 140,\n",
       "         'Lakes and Birds apartments': 1,\n",
       "         'Mission Hills': 27,\n",
       "         'Mission San Jose': 204,\n",
       "         'Mission San Jose houses for rent': 3,\n",
       "         'Mission Valley': 219,\n",
       "         'Niles': 264,\n",
       "         'Northgate': 471,\n",
       "         'Northgate apartments': 1,\n",
       "         'Parkmont': 153,\n",
       "         'Parkmont houses for rent': 1,\n",
       "         'South Sundale': 190,\n",
       "         'Sundale': 221,\n",
       "         'Sundale houses for rent': 1,\n",
       "         'Vineyards-Avalon': 120,\n",
       "         'Warm Springs': 371,\n",
       "         'Warm Springs houses for rent': 1,\n",
       "         'Weibel': 109,\n",
       "         'Weibel houses for rent': 1})"
      ]
     },
     "execution_count": 10,
     "metadata": {},
     "output_type": "execute_result"
    }
   ],
   "source": [
    "Counter(data.area)"
   ]
  },
  {
   "cell_type": "code",
   "execution_count": 11,
   "metadata": {
    "collapsed": false
   },
   "outputs": [
    {
     "name": "stdout",
     "output_type": "stream",
     "text": [
      "(6315, 19)\n",
      "(6292, 19)\n"
     ]
    }
   ],
   "source": [
    "print data.shape\n",
    "data = data.loc[['rent' not in x and 'apartment' not in x for x in data.area], :]\n",
    "print data.shape"
   ]
  },
  {
   "cell_type": "code",
   "execution_count": 12,
   "metadata": {
    "collapsed": false
   },
   "outputs": [
    {
     "data": {
      "text/plain": [
       "Counter({'28 Palms': 114,\n",
       "         'Ardenwood': 511,\n",
       "         'Baylands': 1,\n",
       "         'Blacow': 212,\n",
       "         'Brookvale': 166,\n",
       "         'Cabrillo': 325,\n",
       "         'Cameron Hills': 96,\n",
       "         'Canyon Heights': 102,\n",
       "         'Centerville': 466,\n",
       "         'Cherry-Guardino': 420,\n",
       "         'Downtown': 204,\n",
       "         'East Industrial': 98,\n",
       "         'Glenmoor': 355,\n",
       "         'Grimmer': 252,\n",
       "         'Irvington': 288,\n",
       "         'Kimber-Gomes': 193,\n",
       "         'Lakes and Birds': 140,\n",
       "         'Mission Hills': 27,\n",
       "         'Mission San Jose': 204,\n",
       "         'Mission Valley': 219,\n",
       "         'Niles': 264,\n",
       "         'Northgate': 471,\n",
       "         'Parkmont': 153,\n",
       "         'South Sundale': 190,\n",
       "         'Sundale': 221,\n",
       "         'Vineyards-Avalon': 120,\n",
       "         'Warm Springs': 371,\n",
       "         'Weibel': 109})"
      ]
     },
     "execution_count": 12,
     "metadata": {},
     "output_type": "execute_result"
    }
   ],
   "source": [
    "Counter(data.area)"
   ]
  },
  {
   "cell_type": "markdown",
   "metadata": {},
   "source": [
    "### bet"
   ]
  },
  {
   "cell_type": "code",
   "execution_count": 13,
   "metadata": {
    "collapsed": false
   },
   "outputs": [
    {
     "data": {
      "text/plain": [
       "Counter({nan: 4,\n",
       "         '-- ': 182,\n",
       "         '0.3 acres': 1,\n",
       "         '0.33 acres': 1,\n",
       "         '0.34 acres': 1,\n",
       "         '0.35 acres': 1,\n",
       "         '0.37 acres': 1,\n",
       "         '0.41 acres': 2,\n",
       "         '0.43 acres': 1,\n",
       "         '0.46 acres': 1,\n",
       "         '0.53 acres': 1,\n",
       "         '0.66 acres': 1,\n",
       "         '0.72 acres': 1,\n",
       "         '0.75 acres': 1,\n",
       "         '1': 209,\n",
       "         '1.1 acres': 1,\n",
       "         '1.47 acres': 1,\n",
       "         '10': 1,\n",
       "         '1622 sqft': 1,\n",
       "         '2': 1156,\n",
       "         '2 acres': 1,\n",
       "         '20.35 acres': 1,\n",
       "         '26': 1,\n",
       "         '3': 2554,\n",
       "         '4': 1720,\n",
       "         '5': 362,\n",
       "         '52': 1,\n",
       "         '56': 1,\n",
       "         '57': 1,\n",
       "         '6': 41,\n",
       "         '7': 4,\n",
       "         '7199 sqft': 1,\n",
       "         '7405 sqft': 1,\n",
       "         '8': 3,\n",
       "         '86': 1,\n",
       "         '88': 1,\n",
       "         '9': 1,\n",
       "         'Studio': 29})"
      ]
     },
     "execution_count": 13,
     "metadata": {},
     "output_type": "execute_result"
    }
   ],
   "source": [
    "Counter(data.bet)"
   ]
  },
  {
   "cell_type": "code",
   "execution_count": 14,
   "metadata": {
    "collapsed": true
   },
   "outputs": [],
   "source": [
    "def cleanBet(s):\n",
    "    if str(s) == \"Studio\":\n",
    "        return 0\n",
    "    elif 'acres' in str(s) or 'sqft' in str(s):\n",
    "        return np.nan\n",
    "    else:\n",
    "        try:\n",
    "            r = float(s)\n",
    "            if r > 10:\n",
    "                return np.nan\n",
    "        except:\n",
    "            r = np.nan\n",
    "        return r"
   ]
  },
  {
   "cell_type": "code",
   "execution_count": 15,
   "metadata": {
    "collapsed": false
   },
   "outputs": [],
   "source": [
    "data.bet = [cleanBet(x) for x in data.bet]"
   ]
  },
  {
   "cell_type": "code",
   "execution_count": 16,
   "metadata": {
    "collapsed": false
   },
   "outputs": [
    {
     "name": "stdout",
     "output_type": "stream",
     "text": [
      "(6292, 19)\n",
      "(6080, 19)\n"
     ]
    }
   ],
   "source": [
    "print data.shape\n",
    "data = data.loc[~np.isnan(data.bet), :]\n",
    "print data.shape"
   ]
  },
  {
   "cell_type": "markdown",
   "metadata": {},
   "source": [
    "### bath"
   ]
  },
  {
   "cell_type": "code",
   "execution_count": 17,
   "metadata": {
    "collapsed": false
   },
   "outputs": [
    {
     "data": {
      "text/plain": [
       "Counter({'-- ': 34,\n",
       "         '0.5': 1,\n",
       "         '1': 898,\n",
       "         '1.1': 3,\n",
       "         '1.25': 1,\n",
       "         '1.5': 190,\n",
       "         '2': 2763,\n",
       "         '2.1': 7,\n",
       "         '2.5': 534,\n",
       "         '2.75': 2,\n",
       "         '3': 1262,\n",
       "         '3.1': 1,\n",
       "         '3.5': 77,\n",
       "         '4': 187,\n",
       "         '4.5': 35,\n",
       "         '4.75': 1,\n",
       "         '5': 64,\n",
       "         '5.5': 2,\n",
       "         '6': 11,\n",
       "         '6.5': 3,\n",
       "         '7': 2,\n",
       "         '8': 2})"
      ]
     },
     "execution_count": 17,
     "metadata": {},
     "output_type": "execute_result"
    }
   ],
   "source": [
    "Counter(data.bath)"
   ]
  },
  {
   "cell_type": "code",
   "execution_count": 18,
   "metadata": {
    "collapsed": false
   },
   "outputs": [],
   "source": [
    "def cleanBath(s):\n",
    "    try:\n",
    "        r = float(s)\n",
    "        if r / 1 == 0.5:\n",
    "            return r\n",
    "        else:\n",
    "            return round(r)\n",
    "    except:\n",
    "        return np.nan"
   ]
  },
  {
   "cell_type": "code",
   "execution_count": 19,
   "metadata": {
    "collapsed": false
   },
   "outputs": [
    {
     "name": "stdout",
     "output_type": "stream",
     "text": [
      "(6080, 19)\n",
      "(6046, 19)\n"
     ]
    }
   ],
   "source": [
    "data.bath = [cleanBath(x) for x in data.bath]\n",
    "print data.shape\n",
    "data = data.loc[~np.isnan(data.bath), :]\n",
    "print data.shape"
   ]
  },
  {
   "cell_type": "markdown",
   "metadata": {},
   "source": [
    "### sqft"
   ]
  },
  {
   "cell_type": "code",
   "execution_count": 20,
   "metadata": {
    "collapsed": false
   },
   "outputs": [],
   "source": [
    "def cleanSqft(s):\n",
    "    try:\n",
    "        r = float(s)\n",
    "        return r\n",
    "    except:\n",
    "        return np.nan"
   ]
  },
  {
   "cell_type": "code",
   "execution_count": 21,
   "metadata": {
    "collapsed": false
   },
   "outputs": [
    {
     "data": {
      "text/plain": [
       "<matplotlib.axes._subplots.AxesSubplot at 0x10c9c0f50>"
      ]
     },
     "execution_count": 21,
     "metadata": {},
     "output_type": "execute_result"
    },
    {
     "data": {
      "image/png": "[encoded data removed]",
      "text/plain": [
       "<matplotlib.figure.Figure at 0x101977190>"
      ]
     },
     "metadata": {},
     "output_type": "display_data"
    }
   ],
   "source": [
    "newSqft = np.array([cleanSqft(x) for x in data.sqft])\n",
    "sns.distplot(newSqft[~np.isnan(newSqft)])"
   ]
  },
  {
   "cell_type": "markdown",
   "metadata": {},
   "source": [
    "### price"
   ]
  },
  {
   "cell_type": "code",
   "execution_count": 22,
   "metadata": {
    "collapsed": false
   },
   "outputs": [
    {
     "data": {
      "text/plain": [
       "<matplotlib.axes._subplots.AxesSubplot at 0x110d5bf90>"
      ]
     },
     "execution_count": 22,
     "metadata": {},
     "output_type": "execute_result"
    },
    {
     "data": {
      "image/png": "[encoded data removed]",
      "text/plain": [
       "<matplotlib.figure.Figure at 0x10c95fc50>"
      ]
     },
     "metadata": {},
     "output_type": "display_data"
    }
   ],
   "source": [
    "sns.distplot(data.price)"
   ]
  },
  {
   "cell_type": "code",
   "execution_count": 23,
   "metadata": {
    "collapsed": false
   },
   "outputs": [
    {
     "data": {
      "text/html": [
       "<div>\n",
       "<style>\n",
       "    .dataframe thead tr:only-child th {\n",
       "        text-align: right;\n",
       "    }\n",
       "\n",
       "    .dataframe thead th {\n",
       "        text-align: left;\n",
       "    }\n",
       "\n",
       "    .dataframe tbody tr th {\n",
       "        vertical-align: top;\n",
       "    }\n",
       "</style>\n",
       "<table border=\"1\" class=\"dataframe\">\n",
       "  <thead>\n",
       "    <tr style=\"text-align: right;\">\n",
       "      <th></th>\n",
       "      <th>URL</th>\n",
       "      <th>state</th>\n",
       "      <th>city</th>\n",
       "      <th>zipcode</th>\n",
       "      <th>area</th>\n",
       "      <th>address</th>\n",
       "      <th>bet</th>\n",
       "      <th>bath</th>\n",
       "      <th>sqft</th>\n",
       "      <th>price</th>\n",
       "      <th>Zestimate</th>\n",
       "      <th>type</th>\n",
       "      <th>built</th>\n",
       "      <th>Parking</th>\n",
       "      <th>Lastremodel</th>\n",
       "      <th>year1</th>\n",
       "      <th>price1</th>\n",
       "      <th>year2</th>\n",
       "      <th>price2</th>\n",
       "    </tr>\n",
       "  </thead>\n",
       "  <tbody>\n",
       "    <tr>\n",
       "      <th>6174</th>\n",
       "      <td>https://www.zillow.com/homedetails/36542-Boswo...</td>\n",
       "      <td>California</td>\n",
       "      <td>Fremont</td>\n",
       "      <td>94536</td>\n",
       "      <td>Cabrillo</td>\n",
       "      <td>36542 Bosworth Court</td>\n",
       "      <td>4.0</td>\n",
       "      <td>2.0</td>\n",
       "      <td>1764.00</td>\n",
       "      <td>99000000.0</td>\n",
       "      <td>1008717.0</td>\n",
       "      <td>Single Family</td>\n",
       "      <td>1977</td>\n",
       "      <td>2 spaces</td>\n",
       "      <td>1978.0</td>\n",
       "      <td>11/16/05</td>\n",
       "      <td>990000.00</td>\n",
       "      <td>NaN</td>\n",
       "      <td>NaN</td>\n",
       "    </tr>\n",
       "    <tr>\n",
       "      <th>6277</th>\n",
       "      <td>https://www.zillow.com/homedetails/44529-Vista...</td>\n",
       "      <td>California</td>\n",
       "      <td>Fremont</td>\n",
       "      <td>94539</td>\n",
       "      <td>Mission Hills</td>\n",
       "      <td>44529 Vista Grande Court</td>\n",
       "      <td>5.0</td>\n",
       "      <td>7.0</td>\n",
       "      <td>10052.00</td>\n",
       "      <td>7350000.0</td>\n",
       "      <td>8794277.0</td>\n",
       "      <td>Single Family</td>\n",
       "      <td>2015</td>\n",
       "      <td>5 spaces</td>\n",
       "      <td>NaN</td>\n",
       "      <td>11/22/06</td>\n",
       "      <td>1700000.00</td>\n",
       "      <td>09/24/10</td>\n",
       "      <td>950000.0</td>\n",
       "    </tr>\n",
       "    <tr>\n",
       "      <th>6298</th>\n",
       "      <td>https://www.zillow.com/homedetails/2076-Estate...</td>\n",
       "      <td>California</td>\n",
       "      <td>Fremont</td>\n",
       "      <td>94539</td>\n",
       "      <td>Vineyards-Avalon</td>\n",
       "      <td>2076 Estates Terrace</td>\n",
       "      <td>6.0</td>\n",
       "      <td>5.0</td>\n",
       "      <td>7800.00</td>\n",
       "      <td>4200000.0</td>\n",
       "      <td>3598712.0</td>\n",
       "      <td>Single Family</td>\n",
       "      <td>1997</td>\n",
       "      <td>4 spaces</td>\n",
       "      <td>NaN</td>\n",
       "      <td>01/26/15</td>\n",
       "      <td>4200000.00</td>\n",
       "      <td>01/26/15</td>\n",
       "      <td>4200000.0</td>\n",
       "    </tr>\n",
       "    <tr>\n",
       "      <th>6311</th>\n",
       "      <td>https://www.zillow.com/homedetails/2346-Ruther...</td>\n",
       "      <td>California</td>\n",
       "      <td>Fremont</td>\n",
       "      <td>94539</td>\n",
       "      <td>Vineyards-Avalon</td>\n",
       "      <td>2346 Rutherford Lane</td>\n",
       "      <td>5.0</td>\n",
       "      <td>6.0</td>\n",
       "      <td>7746.00</td>\n",
       "      <td>4375000.0</td>\n",
       "      <td>5578310.0</td>\n",
       "      <td>Single Family</td>\n",
       "      <td>1999</td>\n",
       "      <td>5 spaces</td>\n",
       "      <td>1999.0</td>\n",
       "      <td>09/12/96</td>\n",
       "      <td>488000.00</td>\n",
       "      <td>04/18/12</td>\n",
       "      <td>3394500.0</td>\n",
       "    </tr>\n",
       "  </tbody>\n",
       "</table>\n",
       "</div>"
      ],
      "text/plain": [
       "                                                    URL       state     city  \\\n",
       "6174  https://www.zillow.com/homedetails/36542-Boswo...  California  Fremont   \n",
       "6277  https://www.zillow.com/homedetails/44529-Vista...  California  Fremont   \n",
       "6298  https://www.zillow.com/homedetails/2076-Estate...  California  Fremont   \n",
       "6311  https://www.zillow.com/homedetails/2346-Ruther...  California  Fremont   \n",
       "\n",
       "     zipcode              area                   address  bet  bath      sqft  \\\n",
       "6174   94536          Cabrillo      36542 Bosworth Court  4.0   2.0   1764.00   \n",
       "6277   94539     Mission Hills  44529 Vista Grande Court  5.0   7.0  10052.00   \n",
       "6298   94539  Vineyards-Avalon      2076 Estates Terrace  6.0   5.0   7800.00   \n",
       "6311   94539  Vineyards-Avalon      2346 Rutherford Lane  5.0   6.0   7746.00   \n",
       "\n",
       "           price  Zestimate           type built   Parking  Lastremodel  \\\n",
       "6174  99000000.0  1008717.0  Single Family  1977  2 spaces       1978.0   \n",
       "6277   7350000.0  8794277.0  Single Family  2015  5 spaces          NaN   \n",
       "6298   4200000.0  3598712.0  Single Family  1997  4 spaces          NaN   \n",
       "6311   4375000.0  5578310.0  Single Family  1999  5 spaces       1999.0   \n",
       "\n",
       "         year1      price1     year2     price2  \n",
       "6174  11/16/05   990000.00       NaN        NaN  \n",
       "6277  11/22/06  1700000.00  09/24/10   950000.0  \n",
       "6298  01/26/15  4200000.00  01/26/15  4200000.0  \n",
       "6311  09/12/96   488000.00  04/18/12  3394500.0  "
      ]
     },
     "execution_count": 23,
     "metadata": {},
     "output_type": "execute_result"
    }
   ],
   "source": [
    "data.loc[data.price > 4000000, :]"
   ]
  },
  {
   "cell_type": "code",
   "execution_count": 24,
   "metadata": {
    "collapsed": false
   },
   "outputs": [],
   "source": [
    "data.loc[data.price > 10000000, \"price\"] = 990000"
   ]
  },
  {
   "cell_type": "code",
   "execution_count": 25,
   "metadata": {
    "collapsed": false
   },
   "outputs": [
    {
     "data": {
      "text/plain": [
       "<matplotlib.axes._subplots.AxesSubplot at 0x110c10b50>"
      ]
     },
     "execution_count": 25,
     "metadata": {},
     "output_type": "execute_result"
    },
    {
     "data": {
      "image/png": "[encoded data removed]",
      "text/plain": [
       "<matplotlib.figure.Figure at 0x110eed7d0>"
      ]
     },
     "metadata": {},
     "output_type": "display_data"
    }
   ],
   "source": [
    "sns.distplot(data.price)"
   ]
  },
  {
   "cell_type": "markdown",
   "metadata": {},
   "source": [
    "### Zestimate"
   ]
  },
  {
   "cell_type": "code",
   "execution_count": 26,
   "metadata": {
    "collapsed": false
   },
   "outputs": [
    {
     "name": "stdout",
     "output_type": "stream",
     "text": [
      "(6046, 19)\n",
      "(5953, 19)\n"
     ]
    }
   ],
   "source": [
    "print data.shape\n",
    "data = data.loc[~np.isnan(data.Zestimate),:]\n",
    "print data.shape"
   ]
  },
  {
   "cell_type": "code",
   "execution_count": 27,
   "metadata": {
    "collapsed": false
   },
   "outputs": [
    {
     "data": {
      "text/plain": [
       "<matplotlib.axes._subplots.AxesSubplot at 0x11107e890>"
      ]
     },
     "execution_count": 27,
     "metadata": {},
     "output_type": "execute_result"
    },
    {
     "data": {
      "image/png": "[encoded data removed]",
      "text/plain": [
       "<matplotlib.figure.Figure at 0x110c449d0>"
      ]
     },
     "metadata": {},
     "output_type": "display_data"
    }
   ],
   "source": [
    "sns.distplot(data.Zestimate)"
   ]
  },
  {
   "cell_type": "markdown",
   "metadata": {},
   "source": [
    "### type"
   ]
  },
  {
   "cell_type": "code",
   "execution_count": 28,
   "metadata": {
    "collapsed": false
   },
   "outputs": [
    {
     "data": {
      "text/plain": [
       "Counter({'Condo': 1198,\n",
       "         'Mobile / Manufactured': 8,\n",
       "         'Multi Family': 33,\n",
       "         'Multiple Occupancy': 6,\n",
       "         'Other': 2,\n",
       "         'Single Family': 4118,\n",
       "         'Townhouse': 588})"
      ]
     },
     "execution_count": 28,
     "metadata": {},
     "output_type": "execute_result"
    }
   ],
   "source": [
    "# type\n",
    "Counter(data.type)"
   ]
  },
  {
   "cell_type": "code",
   "execution_count": 29,
   "metadata": {
    "collapsed": false
   },
   "outputs": [
    {
     "name": "stdout",
     "output_type": "stream",
     "text": [
      "(5953, 19)\n",
      "(5904, 19)\n"
     ]
    }
   ],
   "source": [
    "print data.shape\n",
    "data = data.loc[[x in [\"Condo\", \"Single Family\", \"Townhouse\"] for x in data.type],:]\n",
    "print data.shape"
   ]
  },
  {
   "cell_type": "markdown",
   "metadata": {},
   "source": [
    "### built"
   ]
  },
  {
   "cell_type": "code",
   "execution_count": 30,
   "metadata": {
    "collapsed": false
   },
   "outputs": [
    {
     "name": "stdout",
     "output_type": "stream",
     "text": [
      "(5904, 19)\n",
      "(5873, 19)\n"
     ]
    }
   ],
   "source": [
    "print data.shape\n",
    "data = data.loc[[x != \"No Data\" for x in data.built], :]\n",
    "print data.shape"
   ]
  },
  {
   "cell_type": "code",
   "execution_count": 31,
   "metadata": {
    "collapsed": false
   },
   "outputs": [
    {
     "data": {
      "text/plain": [
       "<matplotlib.axes._subplots.AxesSubplot at 0x110eedf90>"
      ]
     },
     "execution_count": 31,
     "metadata": {},
     "output_type": "execute_result"
    },
    {
     "data": {
      "image/png": "[encoded data removed]",
      "text/plain": [
       "<matplotlib.figure.Figure at 0x10ced9a50>"
      ]
     },
     "metadata": {},
     "output_type": "display_data"
    }
   ],
   "source": [
    "sns.distplot([float(x) for x in data.built])"
   ]
  },
  {
   "cell_type": "markdown",
   "metadata": {},
   "source": [
    "### parking"
   ]
  },
  {
   "cell_type": "code",
   "execution_count": 32,
   "metadata": {
    "collapsed": false
   },
   "outputs": [
    {
     "data": {
      "text/plain": [
       "Counter({'1 space': 394,\n",
       "         '102 spaces': 1,\n",
       "         '2 spaces': 1992,\n",
       "         '3 spaces': 201,\n",
       "         '4 spaces': 37,\n",
       "         '5 spaces': 8,\n",
       "         '6 spaces': 2,\n",
       "         '7 spaces': 1,\n",
       "         'Carport': 169,\n",
       "         'Carport Garage - Attached': 18,\n",
       "         'Carport Garage - Attached Garage - Detached Off street': 1,\n",
       "         'Carport Garage - Attached Garage - Detached Off street On street': 2,\n",
       "         'Carport Garage - Attached Garage - Detached On street': 1,\n",
       "         'Carport Garage - Attached Off street': 1,\n",
       "         'Carport Garage - Attached Off street On street': 3,\n",
       "         'Carport Garage - Attached On street': 1,\n",
       "         'Carport Garage - Detached': 4,\n",
       "         'Carport Garage - Detached Off street On street': 1,\n",
       "         'Carport Off street': 15,\n",
       "         'Carport Off street On street': 3,\n",
       "         'Carport On street': 8,\n",
       "         'Garage': 1,\n",
       "         'Garage - Attached': 2165,\n",
       "         'Garage - Attached Garage - Detached': 11,\n",
       "         'Garage - Attached Garage - Detached Off street On street': 1,\n",
       "         'Garage - Attached Off street': 45,\n",
       "         'Garage - Attached Off street On street': 25,\n",
       "         'Garage - Attached On street': 63,\n",
       "         'Garage - Detached': 48,\n",
       "         'Garage - Detached Off street': 7,\n",
       "         'Garage - Detached Off street On street': 4,\n",
       "         'Garage - Detached On street': 2,\n",
       "         'No Data': 606,\n",
       "         'None': 2,\n",
       "         'Off street': 14,\n",
       "         'Off street On street': 7,\n",
       "         'On street': 9})"
      ]
     },
     "execution_count": 32,
     "metadata": {},
     "output_type": "execute_result"
    }
   ],
   "source": [
    "# parking\n",
    "Counter(data.Parking)"
   ]
  },
  {
   "cell_type": "code",
   "execution_count": 33,
   "metadata": {
    "collapsed": true
   },
   "outputs": [],
   "source": [
    "def cleanParking(s):\n",
    "    if 'Carport' in s:\n",
    "        return 'Carport'\n",
    "    elif 'Garage' in s:\n",
    "        return 'Garage'\n",
    "    elif 'street' in s:\n",
    "        return 'street'\n",
    "    elif 'space' in s:\n",
    "        r = int(re.sub(\"[^0-9]\", \"\", s))\n",
    "        if r > 3:\n",
    "            return 'moreThan3'\n",
    "        else:\n",
    "            return str(r)\n",
    "    else:\n",
    "        return np.nan"
   ]
  },
  {
   "cell_type": "code",
   "execution_count": 34,
   "metadata": {
    "collapsed": false
   },
   "outputs": [
    {
     "data": {
      "text/plain": [
       "Counter({nan: 608,\n",
       "         '1': 394,\n",
       "         '2': 1992,\n",
       "         '3': 201,\n",
       "         'Carport': 227,\n",
       "         'Garage': 2372,\n",
       "         'moreThan3': 49,\n",
       "         'street': 30})"
      ]
     },
     "execution_count": 34,
     "metadata": {},
     "output_type": "execute_result"
    }
   ],
   "source": [
    "Counter([cleanParking(x) for x in data.Parking])"
   ]
  },
  {
   "cell_type": "code",
   "execution_count": 35,
   "metadata": {
    "collapsed": true
   },
   "outputs": [],
   "source": [
    "data.Parking = [cleanParking(x) for x in data.Parking]"
   ]
  },
  {
   "cell_type": "code",
   "execution_count": 36,
   "metadata": {
    "collapsed": false
   },
   "outputs": [
    {
     "name": "stdout",
     "output_type": "stream",
     "text": [
      "(5873, 19)\n",
      "(5265, 19)\n"
     ]
    }
   ],
   "source": [
    "print data.shape\n",
    "data = data.loc[~pd.isnull(data.Parking),:]\n",
    "print data.shape"
   ]
  },
  {
   "cell_type": "markdown",
   "metadata": {},
   "source": [
    "### lastremodel"
   ]
  },
  {
   "cell_type": "code",
   "execution_count": 37,
   "metadata": {
    "collapsed": false
   },
   "outputs": [
    {
     "name": "stdout",
     "output_type": "stream",
     "text": [
      "(5265, 19)\n",
      "(5090, 19)\n"
     ]
    }
   ],
   "source": [
    "print data.shape\n",
    "data = data.loc[~pd.isnull(data.Lastremodel),:]\n",
    "print data.shape"
   ]
  },
  {
   "cell_type": "code",
   "execution_count": 38,
   "metadata": {
    "collapsed": false
   },
   "outputs": [],
   "source": [
    "data.Lastremodel = 2017 - data.Lastremodel"
   ]
  },
  {
   "cell_type": "code",
   "execution_count": 39,
   "metadata": {
    "collapsed": false
   },
   "outputs": [
    {
     "data": {
      "text/plain": [
       "<matplotlib.axes._subplots.AxesSubplot at 0x1108131d0>"
      ]
     },
     "execution_count": 39,
     "metadata": {},
     "output_type": "execute_result"
    },
    {
     "data": {
      "image/png": "[encoded data removed]",
      "text/plain": [
       "<matplotlib.figure.Figure at 0x10ce48bd0>"
      ]
     },
     "metadata": {},
     "output_type": "display_data"
    }
   ],
   "source": [
    "sns.distplot(data.Lastremodel)"
   ]
  },
  {
   "cell_type": "markdown",
   "metadata": {
    "collapsed": false
   },
   "source": [
    "### 移除特征值"
   ]
  },
  {
   "cell_type": "code",
   "execution_count": 40,
   "metadata": {
    "collapsed": false
   },
   "outputs": [
    {
     "data": {
      "text/html": [
       "<div>\n",
       "<style>\n",
       "    .dataframe thead tr:only-child th {\n",
       "        text-align: right;\n",
       "    }\n",
       "\n",
       "    .dataframe thead th {\n",
       "        text-align: left;\n",
       "    }\n",
       "\n",
       "    .dataframe tbody tr th {\n",
       "        vertical-align: top;\n",
       "    }\n",
       "</style>\n",
       "<table border=\"1\" class=\"dataframe\">\n",
       "  <thead>\n",
       "    <tr style=\"text-align: right;\">\n",
       "      <th></th>\n",
       "      <th>URL</th>\n",
       "      <th>state</th>\n",
       "      <th>city</th>\n",
       "      <th>zipcode</th>\n",
       "      <th>area</th>\n",
       "      <th>address</th>\n",
       "      <th>bet</th>\n",
       "      <th>bath</th>\n",
       "      <th>sqft</th>\n",
       "      <th>price</th>\n",
       "      <th>Zestimate</th>\n",
       "      <th>type</th>\n",
       "      <th>built</th>\n",
       "      <th>Parking</th>\n",
       "      <th>Lastremodel</th>\n",
       "      <th>year1</th>\n",
       "      <th>price1</th>\n",
       "      <th>year2</th>\n",
       "      <th>price2</th>\n",
       "    </tr>\n",
       "  </thead>\n",
       "  <tbody>\n",
       "    <tr>\n",
       "      <th>0</th>\n",
       "      <td>https://www.zillow.com/homedetails/34380-Newto...</td>\n",
       "      <td>California</td>\n",
       "      <td>Fremont</td>\n",
       "      <td>94555</td>\n",
       "      <td>Northgate</td>\n",
       "      <td>34380 Newton Court</td>\n",
       "      <td>4.0</td>\n",
       "      <td>1.0</td>\n",
       "      <td>1400.00</td>\n",
       "      <td>140000.0</td>\n",
       "      <td>986436.0</td>\n",
       "      <td>Single Family</td>\n",
       "      <td>1970</td>\n",
       "      <td>Garage</td>\n",
       "      <td>47.0</td>\n",
       "      <td>06/01/99</td>\n",
       "      <td>292000.00</td>\n",
       "      <td>2/17/05</td>\n",
       "      <td>140000.0</td>\n",
       "    </tr>\n",
       "    <tr>\n",
       "      <th>2</th>\n",
       "      <td>https://www.zillow.com/homedetails/1993-Waycro...</td>\n",
       "      <td>California</td>\n",
       "      <td>Fremont</td>\n",
       "      <td>94539</td>\n",
       "      <td>Mission Valley</td>\n",
       "      <td>1993 Waycross Road</td>\n",
       "      <td>3.0</td>\n",
       "      <td>2.0</td>\n",
       "      <td>1434.00</td>\n",
       "      <td>130000.0</td>\n",
       "      <td>1320951.0</td>\n",
       "      <td>Single Family</td>\n",
       "      <td>1961</td>\n",
       "      <td>Garage</td>\n",
       "      <td>55.0</td>\n",
       "      <td>04/25/17</td>\n",
       "      <td>130000.00</td>\n",
       "      <td>NaN</td>\n",
       "      <td>NaN</td>\n",
       "    </tr>\n",
       "    <tr>\n",
       "      <th>3</th>\n",
       "      <td>https://www.zillow.com/homedetails/39327-Sutte...</td>\n",
       "      <td>California</td>\n",
       "      <td>Fremont</td>\n",
       "      <td>94538</td>\n",
       "      <td>Sundale</td>\n",
       "      <td>39327 Sutter Drive</td>\n",
       "      <td>3.0</td>\n",
       "      <td>1.0</td>\n",
       "      <td>948.00</td>\n",
       "      <td>141500.0</td>\n",
       "      <td>668271.0</td>\n",
       "      <td>Single Family</td>\n",
       "      <td>1959</td>\n",
       "      <td>Garage</td>\n",
       "      <td>56.0</td>\n",
       "      <td>06/26/00</td>\n",
       "      <td>329000.00</td>\n",
       "      <td>04/21/17</td>\n",
       "      <td>141500.0</td>\n",
       "    </tr>\n",
       "    <tr>\n",
       "      <th>4</th>\n",
       "      <td>https://www.zillow.com/homedetails/5661-Spry-C...</td>\n",
       "      <td>California</td>\n",
       "      <td>Fremont</td>\n",
       "      <td>94538</td>\n",
       "      <td>Blacow</td>\n",
       "      <td>5611 Spry Cmn</td>\n",
       "      <td>2.0</td>\n",
       "      <td>3.0</td>\n",
       "      <td>1157.00</td>\n",
       "      <td>60000.0</td>\n",
       "      <td>710981.0</td>\n",
       "      <td>Condo</td>\n",
       "      <td>1994</td>\n",
       "      <td>1</td>\n",
       "      <td>23.0</td>\n",
       "      <td>02/17/95</td>\n",
       "      <td>173000.00</td>\n",
       "      <td>02/29/00</td>\n",
       "      <td>244500.0</td>\n",
       "    </tr>\n",
       "    <tr>\n",
       "      <th>5</th>\n",
       "      <td>https://www.zillow.com/homedetails/46685-Windm...</td>\n",
       "      <td>California</td>\n",
       "      <td>Fremont</td>\n",
       "      <td>94539</td>\n",
       "      <td>Vineyards-Avalon</td>\n",
       "      <td>46685 Windmill Drive</td>\n",
       "      <td>4.0</td>\n",
       "      <td>2.0</td>\n",
       "      <td>3659.00</td>\n",
       "      <td>152000.0</td>\n",
       "      <td>1696201.0</td>\n",
       "      <td>Single Family</td>\n",
       "      <td>1986</td>\n",
       "      <td>3</td>\n",
       "      <td>28.0</td>\n",
       "      <td>04/06/94</td>\n",
       "      <td>550000.00</td>\n",
       "      <td>06/28/13</td>\n",
       "      <td>675000.0</td>\n",
       "    </tr>\n",
       "  </tbody>\n",
       "</table>\n",
       "</div>"
      ],
      "text/plain": [
       "                                                 URL       state     city  \\\n",
       "0  https://www.zillow.com/homedetails/34380-Newto...  California  Fremont   \n",
       "2  https://www.zillow.com/homedetails/1993-Waycro...  California  Fremont   \n",
       "3  https://www.zillow.com/homedetails/39327-Sutte...  California  Fremont   \n",
       "4  https://www.zillow.com/homedetails/5661-Spry-C...  California  Fremont   \n",
       "5  https://www.zillow.com/homedetails/46685-Windm...  California  Fremont   \n",
       "\n",
       "  zipcode              area               address  bet  bath     sqft  \\\n",
       "0   94555         Northgate    34380 Newton Court  4.0   1.0  1400.00   \n",
       "2   94539    Mission Valley    1993 Waycross Road  3.0   2.0  1434.00   \n",
       "3   94538           Sundale    39327 Sutter Drive  3.0   1.0   948.00   \n",
       "4   94538            Blacow         5611 Spry Cmn  2.0   3.0  1157.00   \n",
       "5   94539  Vineyards-Avalon  46685 Windmill Drive  4.0   2.0  3659.00   \n",
       "\n",
       "      price  Zestimate           type built Parking  Lastremodel     year1  \\\n",
       "0  140000.0   986436.0  Single Family  1970  Garage         47.0  06/01/99   \n",
       "2  130000.0  1320951.0  Single Family  1961  Garage         55.0  04/25/17   \n",
       "3  141500.0   668271.0  Single Family  1959  Garage         56.0  06/26/00   \n",
       "4   60000.0   710981.0          Condo  1994       1         23.0  02/17/95   \n",
       "5  152000.0  1696201.0  Single Family  1986       3         28.0  04/06/94   \n",
       "\n",
       "      price1     year2    price2  \n",
       "0  292000.00   2/17/05  140000.0  \n",
       "2  130000.00       NaN       NaN  \n",
       "3  329000.00  04/21/17  141500.0  \n",
       "4  173000.00  02/29/00  244500.0  \n",
       "5  550000.00  06/28/13  675000.0  "
      ]
     },
     "execution_count": 40,
     "metadata": {},
     "output_type": "execute_result"
    }
   ],
   "source": [
    "data.head()"
   ]
  },
  {
   "cell_type": "code",
   "execution_count": 41,
   "metadata": {
    "collapsed": false
   },
   "outputs": [
    {
     "name": "stdout",
     "output_type": "stream",
     "text": [
      "(5090, 19)\n",
      "(5090, 11)\n"
     ]
    }
   ],
   "source": [
    "useless = [\"URL\", \"state\", \"city\", \"address\", \"year1\", \"price1\", \"year2\", \"price2\"]\n",
    "print data.shape\n",
    "data = data.loc[:, [x not in useless for x in data.columns]]\n",
    "print data.shape"
   ]
  },
  {
   "cell_type": "code",
   "execution_count": 42,
   "metadata": {
    "collapsed": false
   },
   "outputs": [
    {
     "data": {
      "text/html": [
       "<div>\n",
       "<style>\n",
       "    .dataframe thead tr:only-child th {\n",
       "        text-align: right;\n",
       "    }\n",
       "\n",
       "    .dataframe thead th {\n",
       "        text-align: left;\n",
       "    }\n",
       "\n",
       "    .dataframe tbody tr th {\n",
       "        vertical-align: top;\n",
       "    }\n",
       "</style>\n",
       "<table border=\"1\" class=\"dataframe\">\n",
       "  <thead>\n",
       "    <tr style=\"text-align: right;\">\n",
       "      <th></th>\n",
       "      <th>zipcode</th>\n",
       "      <th>area</th>\n",
       "      <th>bet</th>\n",
       "      <th>bath</th>\n",
       "      <th>sqft</th>\n",
       "      <th>price</th>\n",
       "      <th>Zestimate</th>\n",
       "      <th>type</th>\n",
       "      <th>built</th>\n",
       "      <th>Parking</th>\n",
       "      <th>Lastremodel</th>\n",
       "    </tr>\n",
       "  </thead>\n",
       "  <tbody>\n",
       "    <tr>\n",
       "      <th>0</th>\n",
       "      <td>94555</td>\n",
       "      <td>Northgate</td>\n",
       "      <td>4.0</td>\n",
       "      <td>1.0</td>\n",
       "      <td>1400.00</td>\n",
       "      <td>140000.0</td>\n",
       "      <td>986436.0</td>\n",
       "      <td>Single Family</td>\n",
       "      <td>1970</td>\n",
       "      <td>Garage</td>\n",
       "      <td>47.0</td>\n",
       "    </tr>\n",
       "    <tr>\n",
       "      <th>2</th>\n",
       "      <td>94539</td>\n",
       "      <td>Mission Valley</td>\n",
       "      <td>3.0</td>\n",
       "      <td>2.0</td>\n",
       "      <td>1434.00</td>\n",
       "      <td>130000.0</td>\n",
       "      <td>1320951.0</td>\n",
       "      <td>Single Family</td>\n",
       "      <td>1961</td>\n",
       "      <td>Garage</td>\n",
       "      <td>55.0</td>\n",
       "    </tr>\n",
       "    <tr>\n",
       "      <th>3</th>\n",
       "      <td>94538</td>\n",
       "      <td>Sundale</td>\n",
       "      <td>3.0</td>\n",
       "      <td>1.0</td>\n",
       "      <td>948.00</td>\n",
       "      <td>141500.0</td>\n",
       "      <td>668271.0</td>\n",
       "      <td>Single Family</td>\n",
       "      <td>1959</td>\n",
       "      <td>Garage</td>\n",
       "      <td>56.0</td>\n",
       "    </tr>\n",
       "    <tr>\n",
       "      <th>4</th>\n",
       "      <td>94538</td>\n",
       "      <td>Blacow</td>\n",
       "      <td>2.0</td>\n",
       "      <td>3.0</td>\n",
       "      <td>1157.00</td>\n",
       "      <td>60000.0</td>\n",
       "      <td>710981.0</td>\n",
       "      <td>Condo</td>\n",
       "      <td>1994</td>\n",
       "      <td>1</td>\n",
       "      <td>23.0</td>\n",
       "    </tr>\n",
       "    <tr>\n",
       "      <th>5</th>\n",
       "      <td>94539</td>\n",
       "      <td>Vineyards-Avalon</td>\n",
       "      <td>4.0</td>\n",
       "      <td>2.0</td>\n",
       "      <td>3659.00</td>\n",
       "      <td>152000.0</td>\n",
       "      <td>1696201.0</td>\n",
       "      <td>Single Family</td>\n",
       "      <td>1986</td>\n",
       "      <td>3</td>\n",
       "      <td>28.0</td>\n",
       "    </tr>\n",
       "  </tbody>\n",
       "</table>\n",
       "</div>"
      ],
      "text/plain": [
       "  zipcode              area  bet  bath     sqft     price  Zestimate  \\\n",
       "0   94555         Northgate  4.0   1.0  1400.00  140000.0   986436.0   \n",
       "2   94539    Mission Valley  3.0   2.0  1434.00  130000.0  1320951.0   \n",
       "3   94538           Sundale  3.0   1.0   948.00  141500.0   668271.0   \n",
       "4   94538            Blacow  2.0   3.0  1157.00   60000.0   710981.0   \n",
       "5   94539  Vineyards-Avalon  4.0   2.0  3659.00  152000.0  1696201.0   \n",
       "\n",
       "            type built Parking  Lastremodel  \n",
       "0  Single Family  1970  Garage         47.0  \n",
       "2  Single Family  1961  Garage         55.0  \n",
       "3  Single Family  1959  Garage         56.0  \n",
       "4          Condo  1994       1         23.0  \n",
       "5  Single Family  1986       3         28.0  "
      ]
     },
     "execution_count": 42,
     "metadata": {},
     "output_type": "execute_result"
    }
   ],
   "source": [
    "data.head()"
   ]
  },
  {
   "cell_type": "markdown",
   "metadata": {},
   "source": [
    "### 类别变量"
   ]
  },
  {
   "cell_type": "code",
   "execution_count": 43,
   "metadata": {
    "collapsed": false
   },
   "outputs": [],
   "source": [
    "cate_features = [\"zipcode\", \"area\", \"bet\", \"bath\", \"type\", \"Parking\"]\n",
    "conti_features = [\"sqft\", \"built\", \"Lastremodel\"]\n",
    "y_features = [\"price\", \"Zestimate\"]"
   ]
  },
  {
   "cell_type": "code",
   "execution_count": 44,
   "metadata": {
    "collapsed": false
   },
   "outputs": [
    {
     "name": "stdout",
     "output_type": "stream",
     "text": [
      "(5090, 6)\n",
      "(5090, 3)\n",
      "(5090, 2)\n"
     ]
    }
   ],
   "source": [
    "cate_df = data.loc[:, [x in cate_features for x in data.columns]]\n",
    "conti_df = data.loc[:, [x in conti_features for x in data.columns]]\n",
    "y_df = data.loc[:, [x in y_features for x in data.columns]]\n",
    "print cate_df.shape\n",
    "print conti_df.shape\n",
    "print y_df.shape"
   ]
  },
  {
   "cell_type": "code",
   "execution_count": 45,
   "metadata": {
    "collapsed": false
   },
   "outputs": [
    {
     "name": "stderr",
     "output_type": "stream",
     "text": [
      "/Users/qiweili/anaconda/lib/python2.7/site-packages/pandas/core/indexing.py:517: SettingWithCopyWarning: \n",
      "A value is trying to be set on a copy of a slice from a DataFrame.\n",
      "Try using .loc[row_indexer,col_indexer] = value instead\n",
      "\n",
      "See the caveats in the documentation: http://pandas.pydata.org/pandas-docs/stable/indexing.html#indexing-view-versus-copy\n",
      "  self.obj[item] = s\n",
      "/Users/qiweili/anaconda/lib/python2.7/site-packages/pandas/core/indexing.py:601: SettingWithCopyWarning: \n",
      "A value is trying to be set on a copy of a slice from a DataFrame.\n",
      "Try using .loc[row_indexer,col_indexer] = value instead\n",
      "\n",
      "See the caveats in the documentation: http://pandas.pydata.org/pandas-docs/stable/indexing.html#indexing-view-versus-copy\n",
      "  self.obj[item_labels[indexer[info_axis]]] = value\n"
     ]
    },
    {
     "data": {
      "text/plain": [
       "zipcode    object\n",
       "area       object\n",
       "bet        object\n",
       "bath       object\n",
       "type       object\n",
       "Parking    object\n",
       "dtype: object"
      ]
     },
     "execution_count": 45,
     "metadata": {},
     "output_type": "execute_result"
    }
   ],
   "source": [
    "for col in cate_df.columns:\n",
    "    cate_df.loc[:, col] = cate_df.loc[:, col].asobject\n",
    "cate_df.dtypes"
   ]
  },
  {
   "cell_type": "code",
   "execution_count": 46,
   "metadata": {
    "collapsed": false
   },
   "outputs": [
    {
     "name": "stdout",
     "output_type": "stream",
     "text": [
      "sqft           float64\n",
      "built            int64\n",
      "Lastremodel    float64\n",
      "dtype: object\n",
      "price        float64\n",
      "Zestimate    float64\n",
      "dtype: object\n"
     ]
    }
   ],
   "source": [
    "conti_df = conti_df.apply(pd.to_numeric, errors='raise')\n",
    "y_df = y_df.apply(pd.to_numeric, errors='raise')\n",
    "print conti_df.dtypes\n",
    "print y_df.dtypes"
   ]
  },
  {
   "cell_type": "code",
   "execution_count": 47,
   "metadata": {
    "collapsed": false
   },
   "outputs": [
    {
     "name": "stdout",
     "output_type": "stream",
     "text": [
      "(5090, 59)\n"
     ]
    }
   ],
   "source": [
    "dummy = pd.get_dummies(cate_df)\n",
    "print dummy.shape"
   ]
  },
  {
   "cell_type": "code",
   "execution_count": 48,
   "metadata": {
    "collapsed": false
   },
   "outputs": [
    {
     "name": "stdout",
     "output_type": "stream",
     "text": [
      "(5090, 62)\n",
      "(5090, 2)\n"
     ]
    }
   ],
   "source": [
    "X = pd.concat([dummy, conti_df], axis=1)\n",
    "y = y_df\n",
    "print X.shape\n",
    "print y.shape"
   ]
  },
  {
   "cell_type": "code",
   "execution_count": 49,
   "metadata": {
    "collapsed": false
   },
   "outputs": [
    {
     "data": {
      "text/html": [
       "<div>\n",
       "<style>\n",
       "    .dataframe thead tr:only-child th {\n",
       "        text-align: right;\n",
       "    }\n",
       "\n",
       "    .dataframe thead th {\n",
       "        text-align: left;\n",
       "    }\n",
       "\n",
       "    .dataframe tbody tr th {\n",
       "        vertical-align: top;\n",
       "    }\n",
       "</style>\n",
       "<table border=\"1\" class=\"dataframe\">\n",
       "  <thead>\n",
       "    <tr style=\"text-align: right;\">\n",
       "      <th></th>\n",
       "      <th>zipcode_94536</th>\n",
       "      <th>zipcode_94538</th>\n",
       "      <th>zipcode_94539</th>\n",
       "      <th>zipcode_94555</th>\n",
       "      <th>area_28 Palms</th>\n",
       "      <th>area_Ardenwood</th>\n",
       "      <th>area_Blacow</th>\n",
       "      <th>area_Brookvale</th>\n",
       "      <th>area_Cabrillo</th>\n",
       "      <th>area_Cameron Hills</th>\n",
       "      <th>area_Canyon Heights</th>\n",
       "      <th>area_Centerville</th>\n",
       "      <th>area_Cherry-Guardino</th>\n",
       "      <th>area_Downtown</th>\n",
       "      <th>area_East Industrial</th>\n",
       "      <th>area_Glenmoor</th>\n",
       "      <th>area_Grimmer</th>\n",
       "      <th>area_Irvington</th>\n",
       "      <th>area_Kimber-Gomes</th>\n",
       "      <th>area_Lakes and Birds</th>\n",
       "      <th>area_Mission Hills</th>\n",
       "      <th>area_Mission San Jose</th>\n",
       "      <th>area_Mission Valley</th>\n",
       "      <th>area_Niles</th>\n",
       "      <th>area_Northgate</th>\n",
       "      <th>area_Parkmont</th>\n",
       "      <th>area_South Sundale</th>\n",
       "      <th>area_Sundale</th>\n",
       "      <th>area_Vineyards-Avalon</th>\n",
       "      <th>area_Warm Springs</th>\n",
       "      <th>area_Weibel</th>\n",
       "      <th>bet_0.0</th>\n",
       "      <th>bet_1.0</th>\n",
       "      <th>bet_2.0</th>\n",
       "      <th>bet_3.0</th>\n",
       "      <th>bet_4.0</th>\n",
       "      <th>bet_5.0</th>\n",
       "      <th>bet_6.0</th>\n",
       "      <th>bet_7.0</th>\n",
       "      <th>bet_8.0</th>\n",
       "      <th>bath_0.5</th>\n",
       "      <th>bath_1.0</th>\n",
       "      <th>bath_2.0</th>\n",
       "      <th>bath_3.0</th>\n",
       "      <th>bath_4.0</th>\n",
       "      <th>bath_5.0</th>\n",
       "      <th>bath_6.0</th>\n",
       "      <th>bath_7.0</th>\n",
       "      <th>bath_8.0</th>\n",
       "      <th>type_Condo</th>\n",
       "      <th>type_Single Family</th>\n",
       "      <th>type_Townhouse</th>\n",
       "      <th>Parking_1</th>\n",
       "      <th>Parking_2</th>\n",
       "      <th>Parking_3</th>\n",
       "      <th>Parking_Carport</th>\n",
       "      <th>Parking_Garage</th>\n",
       "      <th>Parking_moreThan3</th>\n",
       "      <th>Parking_street</th>\n",
       "      <th>sqft</th>\n",
       "      <th>built</th>\n",
       "      <th>Lastremodel</th>\n",
       "    </tr>\n",
       "  </thead>\n",
       "  <tbody>\n",
       "    <tr>\n",
       "      <th>0</th>\n",
       "      <td>0</td>\n",
       "      <td>0</td>\n",
       "      <td>0</td>\n",
       "      <td>1</td>\n",
       "      <td>0</td>\n",
       "      <td>0</td>\n",
       "      <td>0</td>\n",
       "      <td>0</td>\n",
       "      <td>0</td>\n",
       "      <td>0</td>\n",
       "      <td>0</td>\n",
       "      <td>0</td>\n",
       "      <td>0</td>\n",
       "      <td>0</td>\n",
       "      <td>0</td>\n",
       "      <td>0</td>\n",
       "      <td>0</td>\n",
       "      <td>0</td>\n",
       "      <td>0</td>\n",
       "      <td>0</td>\n",
       "      <td>0</td>\n",
       "      <td>0</td>\n",
       "      <td>0</td>\n",
       "      <td>0</td>\n",
       "      <td>1</td>\n",
       "      <td>0</td>\n",
       "      <td>0</td>\n",
       "      <td>0</td>\n",
       "      <td>0</td>\n",
       "      <td>0</td>\n",
       "      <td>0</td>\n",
       "      <td>0</td>\n",
       "      <td>0</td>\n",
       "      <td>0</td>\n",
       "      <td>0</td>\n",
       "      <td>1</td>\n",
       "      <td>0</td>\n",
       "      <td>0</td>\n",
       "      <td>0</td>\n",
       "      <td>0</td>\n",
       "      <td>0</td>\n",
       "      <td>1</td>\n",
       "      <td>0</td>\n",
       "      <td>0</td>\n",
       "      <td>0</td>\n",
       "      <td>0</td>\n",
       "      <td>0</td>\n",
       "      <td>0</td>\n",
       "      <td>0</td>\n",
       "      <td>0</td>\n",
       "      <td>1</td>\n",
       "      <td>0</td>\n",
       "      <td>0</td>\n",
       "      <td>0</td>\n",
       "      <td>0</td>\n",
       "      <td>0</td>\n",
       "      <td>1</td>\n",
       "      <td>0</td>\n",
       "      <td>0</td>\n",
       "      <td>1400.0</td>\n",
       "      <td>1970</td>\n",
       "      <td>47.0</td>\n",
       "    </tr>\n",
       "    <tr>\n",
       "      <th>2</th>\n",
       "      <td>0</td>\n",
       "      <td>0</td>\n",
       "      <td>1</td>\n",
       "      <td>0</td>\n",
       "      <td>0</td>\n",
       "      <td>0</td>\n",
       "      <td>0</td>\n",
       "      <td>0</td>\n",
       "      <td>0</td>\n",
       "      <td>0</td>\n",
       "      <td>0</td>\n",
       "      <td>0</td>\n",
       "      <td>0</td>\n",
       "      <td>0</td>\n",
       "      <td>0</td>\n",
       "      <td>0</td>\n",
       "      <td>0</td>\n",
       "      <td>0</td>\n",
       "      <td>0</td>\n",
       "      <td>0</td>\n",
       "      <td>0</td>\n",
       "      <td>0</td>\n",
       "      <td>1</td>\n",
       "      <td>0</td>\n",
       "      <td>0</td>\n",
       "      <td>0</td>\n",
       "      <td>0</td>\n",
       "      <td>0</td>\n",
       "      <td>0</td>\n",
       "      <td>0</td>\n",
       "      <td>0</td>\n",
       "      <td>0</td>\n",
       "      <td>0</td>\n",
       "      <td>0</td>\n",
       "      <td>1</td>\n",
       "      <td>0</td>\n",
       "      <td>0</td>\n",
       "      <td>0</td>\n",
       "      <td>0</td>\n",
       "      <td>0</td>\n",
       "      <td>0</td>\n",
       "      <td>0</td>\n",
       "      <td>1</td>\n",
       "      <td>0</td>\n",
       "      <td>0</td>\n",
       "      <td>0</td>\n",
       "      <td>0</td>\n",
       "      <td>0</td>\n",
       "      <td>0</td>\n",
       "      <td>0</td>\n",
       "      <td>1</td>\n",
       "      <td>0</td>\n",
       "      <td>0</td>\n",
       "      <td>0</td>\n",
       "      <td>0</td>\n",
       "      <td>0</td>\n",
       "      <td>1</td>\n",
       "      <td>0</td>\n",
       "      <td>0</td>\n",
       "      <td>1434.0</td>\n",
       "      <td>1961</td>\n",
       "      <td>55.0</td>\n",
       "    </tr>\n",
       "    <tr>\n",
       "      <th>3</th>\n",
       "      <td>0</td>\n",
       "      <td>1</td>\n",
       "      <td>0</td>\n",
       "      <td>0</td>\n",
       "      <td>0</td>\n",
       "      <td>0</td>\n",
       "      <td>0</td>\n",
       "      <td>0</td>\n",
       "      <td>0</td>\n",
       "      <td>0</td>\n",
       "      <td>0</td>\n",
       "      <td>0</td>\n",
       "      <td>0</td>\n",
       "      <td>0</td>\n",
       "      <td>0</td>\n",
       "      <td>0</td>\n",
       "      <td>0</td>\n",
       "      <td>0</td>\n",
       "      <td>0</td>\n",
       "      <td>0</td>\n",
       "      <td>0</td>\n",
       "      <td>0</td>\n",
       "      <td>0</td>\n",
       "      <td>0</td>\n",
       "      <td>0</td>\n",
       "      <td>0</td>\n",
       "      <td>0</td>\n",
       "      <td>1</td>\n",
       "      <td>0</td>\n",
       "      <td>0</td>\n",
       "      <td>0</td>\n",
       "      <td>0</td>\n",
       "      <td>0</td>\n",
       "      <td>0</td>\n",
       "      <td>1</td>\n",
       "      <td>0</td>\n",
       "      <td>0</td>\n",
       "      <td>0</td>\n",
       "      <td>0</td>\n",
       "      <td>0</td>\n",
       "      <td>0</td>\n",
       "      <td>1</td>\n",
       "      <td>0</td>\n",
       "      <td>0</td>\n",
       "      <td>0</td>\n",
       "      <td>0</td>\n",
       "      <td>0</td>\n",
       "      <td>0</td>\n",
       "      <td>0</td>\n",
       "      <td>0</td>\n",
       "      <td>1</td>\n",
       "      <td>0</td>\n",
       "      <td>0</td>\n",
       "      <td>0</td>\n",
       "      <td>0</td>\n",
       "      <td>0</td>\n",
       "      <td>1</td>\n",
       "      <td>0</td>\n",
       "      <td>0</td>\n",
       "      <td>948.0</td>\n",
       "      <td>1959</td>\n",
       "      <td>56.0</td>\n",
       "    </tr>\n",
       "    <tr>\n",
       "      <th>4</th>\n",
       "      <td>0</td>\n",
       "      <td>1</td>\n",
       "      <td>0</td>\n",
       "      <td>0</td>\n",
       "      <td>0</td>\n",
       "      <td>0</td>\n",
       "      <td>1</td>\n",
       "      <td>0</td>\n",
       "      <td>0</td>\n",
       "      <td>0</td>\n",
       "      <td>0</td>\n",
       "      <td>0</td>\n",
       "      <td>0</td>\n",
       "      <td>0</td>\n",
       "      <td>0</td>\n",
       "      <td>0</td>\n",
       "      <td>0</td>\n",
       "      <td>0</td>\n",
       "      <td>0</td>\n",
       "      <td>0</td>\n",
       "      <td>0</td>\n",
       "      <td>0</td>\n",
       "      <td>0</td>\n",
       "      <td>0</td>\n",
       "      <td>0</td>\n",
       "      <td>0</td>\n",
       "      <td>0</td>\n",
       "      <td>0</td>\n",
       "      <td>0</td>\n",
       "      <td>0</td>\n",
       "      <td>0</td>\n",
       "      <td>0</td>\n",
       "      <td>0</td>\n",
       "      <td>1</td>\n",
       "      <td>0</td>\n",
       "      <td>0</td>\n",
       "      <td>0</td>\n",
       "      <td>0</td>\n",
       "      <td>0</td>\n",
       "      <td>0</td>\n",
       "      <td>0</td>\n",
       "      <td>0</td>\n",
       "      <td>0</td>\n",
       "      <td>1</td>\n",
       "      <td>0</td>\n",
       "      <td>0</td>\n",
       "      <td>0</td>\n",
       "      <td>0</td>\n",
       "      <td>0</td>\n",
       "      <td>1</td>\n",
       "      <td>0</td>\n",
       "      <td>0</td>\n",
       "      <td>1</td>\n",
       "      <td>0</td>\n",
       "      <td>0</td>\n",
       "      <td>0</td>\n",
       "      <td>0</td>\n",
       "      <td>0</td>\n",
       "      <td>0</td>\n",
       "      <td>1157.0</td>\n",
       "      <td>1994</td>\n",
       "      <td>23.0</td>\n",
       "    </tr>\n",
       "    <tr>\n",
       "      <th>5</th>\n",
       "      <td>0</td>\n",
       "      <td>0</td>\n",
       "      <td>1</td>\n",
       "      <td>0</td>\n",
       "      <td>0</td>\n",
       "      <td>0</td>\n",
       "      <td>0</td>\n",
       "      <td>0</td>\n",
       "      <td>0</td>\n",
       "      <td>0</td>\n",
       "      <td>0</td>\n",
       "      <td>0</td>\n",
       "      <td>0</td>\n",
       "      <td>0</td>\n",
       "      <td>0</td>\n",
       "      <td>0</td>\n",
       "      <td>0</td>\n",
       "      <td>0</td>\n",
       "      <td>0</td>\n",
       "      <td>0</td>\n",
       "      <td>0</td>\n",
       "      <td>0</td>\n",
       "      <td>0</td>\n",
       "      <td>0</td>\n",
       "      <td>0</td>\n",
       "      <td>0</td>\n",
       "      <td>0</td>\n",
       "      <td>0</td>\n",
       "      <td>1</td>\n",
       "      <td>0</td>\n",
       "      <td>0</td>\n",
       "      <td>0</td>\n",
       "      <td>0</td>\n",
       "      <td>0</td>\n",
       "      <td>0</td>\n",
       "      <td>1</td>\n",
       "      <td>0</td>\n",
       "      <td>0</td>\n",
       "      <td>0</td>\n",
       "      <td>0</td>\n",
       "      <td>0</td>\n",
       "      <td>0</td>\n",
       "      <td>1</td>\n",
       "      <td>0</td>\n",
       "      <td>0</td>\n",
       "      <td>0</td>\n",
       "      <td>0</td>\n",
       "      <td>0</td>\n",
       "      <td>0</td>\n",
       "      <td>0</td>\n",
       "      <td>1</td>\n",
       "      <td>0</td>\n",
       "      <td>0</td>\n",
       "      <td>0</td>\n",
       "      <td>1</td>\n",
       "      <td>0</td>\n",
       "      <td>0</td>\n",
       "      <td>0</td>\n",
       "      <td>0</td>\n",
       "      <td>3659.0</td>\n",
       "      <td>1986</td>\n",
       "      <td>28.0</td>\n",
       "    </tr>\n",
       "  </tbody>\n",
       "</table>\n",
       "</div>"
      ],
      "text/plain": [
       "   zipcode_94536  zipcode_94538  zipcode_94539  zipcode_94555  area_28 Palms  \\\n",
       "0              0              0              0              1              0   \n",
       "2              0              0              1              0              0   \n",
       "3              0              1              0              0              0   \n",
       "4              0              1              0              0              0   \n",
       "5              0              0              1              0              0   \n",
       "\n",
       "   area_Ardenwood  area_Blacow  area_Brookvale  area_Cabrillo  \\\n",
       "0               0            0               0              0   \n",
       "2               0            0               0              0   \n",
       "3               0            0               0              0   \n",
       "4               0            1               0              0   \n",
       "5               0            0               0              0   \n",
       "\n",
       "   area_Cameron Hills  area_Canyon Heights  area_Centerville  \\\n",
       "0                   0                    0                 0   \n",
       "2                   0                    0                 0   \n",
       "3                   0                    0                 0   \n",
       "4                   0                    0                 0   \n",
       "5                   0                    0                 0   \n",
       "\n",
       "   area_Cherry-Guardino  area_Downtown  area_East Industrial  area_Glenmoor  \\\n",
       "0                     0              0                     0              0   \n",
       "2                     0              0                     0              0   \n",
       "3                     0              0                     0              0   \n",
       "4                     0              0                     0              0   \n",
       "5                     0              0                     0              0   \n",
       "\n",
       "   area_Grimmer  area_Irvington  area_Kimber-Gomes  area_Lakes and Birds  \\\n",
       "0             0               0                  0                     0   \n",
       "2             0               0                  0                     0   \n",
       "3             0               0                  0                     0   \n",
       "4             0               0                  0                     0   \n",
       "5             0               0                  0                     0   \n",
       "\n",
       "   area_Mission Hills  area_Mission San Jose  area_Mission Valley  area_Niles  \\\n",
       "0                   0                      0                    0           0   \n",
       "2                   0                      0                    1           0   \n",
       "3                   0                      0                    0           0   \n",
       "4                   0                      0                    0           0   \n",
       "5                   0                      0                    0           0   \n",
       "\n",
       "   area_Northgate  area_Parkmont  area_South Sundale  area_Sundale  \\\n",
       "0               1              0                   0             0   \n",
       "2               0              0                   0             0   \n",
       "3               0              0                   0             1   \n",
       "4               0              0                   0             0   \n",
       "5               0              0                   0             0   \n",
       "\n",
       "   area_Vineyards-Avalon  area_Warm Springs  area_Weibel  bet_0.0  bet_1.0  \\\n",
       "0                      0                  0            0        0        0   \n",
       "2                      0                  0            0        0        0   \n",
       "3                      0                  0            0        0        0   \n",
       "4                      0                  0            0        0        0   \n",
       "5                      1                  0            0        0        0   \n",
       "\n",
       "   bet_2.0  bet_3.0  bet_4.0  bet_5.0  bet_6.0  bet_7.0  bet_8.0  bath_0.5  \\\n",
       "0        0        0        1        0        0        0        0         0   \n",
       "2        0        1        0        0        0        0        0         0   \n",
       "3        0        1        0        0        0        0        0         0   \n",
       "4        1        0        0        0        0        0        0         0   \n",
       "5        0        0        1        0        0        0        0         0   \n",
       "\n",
       "   bath_1.0  bath_2.0  bath_3.0  bath_4.0  bath_5.0  bath_6.0  bath_7.0  \\\n",
       "0         1         0         0         0         0         0         0   \n",
       "2         0         1         0         0         0         0         0   \n",
       "3         1         0         0         0         0         0         0   \n",
       "4         0         0         1         0         0         0         0   \n",
       "5         0         1         0         0         0         0         0   \n",
       "\n",
       "   bath_8.0  type_Condo  type_Single Family  type_Townhouse  Parking_1  \\\n",
       "0         0           0                   1               0          0   \n",
       "2         0           0                   1               0          0   \n",
       "3         0           0                   1               0          0   \n",
       "4         0           1                   0               0          1   \n",
       "5         0           0                   1               0          0   \n",
       "\n",
       "   Parking_2  Parking_3  Parking_Carport  Parking_Garage  Parking_moreThan3  \\\n",
       "0          0          0                0               1                  0   \n",
       "2          0          0                0               1                  0   \n",
       "3          0          0                0               1                  0   \n",
       "4          0          0                0               0                  0   \n",
       "5          0          1                0               0                  0   \n",
       "\n",
       "   Parking_street    sqft  built  Lastremodel  \n",
       "0               0  1400.0   1970         47.0  \n",
       "2               0  1434.0   1961         55.0  \n",
       "3               0   948.0   1959         56.0  \n",
       "4               0  1157.0   1994         23.0  \n",
       "5               0  3659.0   1986         28.0  "
      ]
     },
     "execution_count": 49,
     "metadata": {},
     "output_type": "execute_result"
    }
   ],
   "source": [
    "X.head()"
   ]
  },
  {
   "cell_type": "markdown",
   "metadata": {},
   "source": [
    "### 模型"
   ]
  },
  {
   "cell_type": "code",
   "execution_count": 50,
   "metadata": {
    "collapsed": false
   },
   "outputs": [],
   "source": [
    "# from sklearn import datasets, linear_model\n",
    "# from sklearn import preprocessing\n",
    "# X_scaled = preprocessing.scale(X)\n",
    "# regr = linear_model.LinearRegression()\n",
    "# regr.fit(X, y.price)\n",
    "# pd.DataFrame(zip(X.columns, regr.coef_), columns=[\"feature\", \"coef\"]).sort_values(\"coef\")\n",
    "# print(\"Mean squared error: %.2f\"\n",
    "#       % np.mean((regr.predict(X) - y.price) ** 2))"
   ]
  },
  {
   "cell_type": "code",
   "execution_count": 51,
   "metadata": {
    "collapsed": false
   },
   "outputs": [
    {
     "data": {
      "text/plain": [
       "RandomForestRegressor(bootstrap=True, criterion='mse', max_depth=None,\n",
       "           max_features='auto', max_leaf_nodes=None,\n",
       "           min_impurity_split=1e-07, min_samples_leaf=1,\n",
       "           min_samples_split=2, min_weight_fraction_leaf=0.0,\n",
       "           n_estimators=10, n_jobs=1, oob_score=False, random_state=None,\n",
       "           verbose=0, warm_start=False)"
      ]
     },
     "execution_count": 51,
     "metadata": {},
     "output_type": "execute_result"
    }
   ],
   "source": [
    "from sklearn.ensemble import RandomForestRegressor\n",
    "rf = RandomForestRegressor(n_estimators = 10)\n",
    "rf.fit(X, y.price)"
   ]
  },
  {
   "cell_type": "code",
   "execution_count": 52,
   "metadata": {
    "collapsed": false
   },
   "outputs": [
    {
     "data": {
      "text/plain": [
       "<matplotlib.axes._subplots.AxesSubplot at 0x11183dbd0>"
      ]
     },
     "execution_count": 52,
     "metadata": {},
     "output_type": "execute_result"
    },
    {
     "data": {
      "image/png": "[encoded data removed]",
      "text/plain": [
       "<matplotlib.figure.Figure at 0x110653250>"
      ]
     },
     "metadata": {},
     "output_type": "display_data"
    }
   ],
   "source": [
    "pd.DataFrame(zip(X.columns, rf.feature_importances_), columns=[\"feature\", \"importance\"]).sort_values(\"importance\", ascending=True).tail(20).plot(x=\"feature\", y=\"importance\", kind=\"barh\", figsize=(8,10))"
   ]
  },
  {
   "cell_type": "code",
   "execution_count": 53,
   "metadata": {
    "collapsed": false
   },
   "outputs": [
    {
     "data": {
      "text/plain": [
       "<matplotlib.axes._subplots.AxesSubplot at 0x112452f90>"
      ]
     },
     "execution_count": 53,
     "metadata": {},
     "output_type": "execute_result"
    },
    {
     "data": {
      "image/png": "[encoded data removed]",
      "text/plain": [
       "<matplotlib.figure.Figure at 0x1120bd7d0>"
      ]
     },
     "metadata": {},
     "output_type": "display_data"
    }
   ],
   "source": [
    "plt.figure(figsize=(25,15))\n",
    "ax1 = plt.subplot(2,3,1)\n",
    "sns.regplot(x = X.sqft, y = y.price, ax=ax1)\n",
    "ax2 = plt.subplot(2,3,2)\n",
    "sns.regplot(x = X.zipcode_94539, y = y.price, ax=ax2)\n",
    "ax3 = plt.subplot(2,3,3)\n",
    "sns.regplot(x = X.built, y = y.price, ax=ax3)\n",
    "ax4 = plt.subplot(2,3,4)\n",
    "sns.regplot(x = X[\"type_Single Family\"], y = y.price, ax=ax4)\n",
    "ax5 = plt.subplot(2,3,5)\n",
    "sns.regplot(x = X.Lastremodel, y = y.price, ax=ax5)"
   ]
  },
  {
   "cell_type": "code",
   "execution_count": null,
   "metadata": {
    "collapsed": true
   },
   "outputs": [],
   "source": []
  }
 ],
 "metadata": {
  "kernelspec": {
   "display_name": "Python 2",
   "language": "python",
   "name": "python2"
  },
  "language_info": {
   "codemirror_mode": {
    "name": "ipython",
    "version": 2
   },
   "file_extension": ".py",
   "mimetype": "text/x-python",
   "name": "python",
   "nbconvert_exporter": "python",
   "pygments_lexer": "ipython2",
   "version": "2.7.13"
  }
 },
 "nbformat": 4,
 "nbformat_minor": 2
}
