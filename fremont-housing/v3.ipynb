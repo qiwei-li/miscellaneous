{
 "cells": [
  {
   "cell_type": "code",
   "execution_count": 1,
   "metadata": {
    "collapsed": false
   },
   "outputs": [
    {
     "data": {
      "text/html": [
       "<style>.container { width:90% !important; }</style>"
      ],
      "text/plain": [
       "<IPython.core.display.HTML object>"
      ]
     },
     "metadata": {},
     "output_type": "display_data"
    }
   ],
   "source": [
    "from datetime import datetime, timedelta\n",
    "import itertools\n",
    "from IPython.display import clear_output\n",
    "from IPython.core.display import display, HTML\n",
    "display(HTML(\"<style>.container { width:90% !important; }</style>\"))\n",
    "import time\n",
    "import numpy as np\n",
    "import pandas as pd\n",
    "pd.options.display.max_columns = None\n",
    "pd.options.display.max_rows = None\n",
    "import matplotlib.pyplot as plt\n",
    "%matplotlib inline\n",
    "from collections import Counter, defaultdict\n",
    "import seaborn as sns\n",
    "import re\n",
    "import math\n",
    "from datetime import datetime"
   ]
  },
  {
   "cell_type": "markdown",
   "metadata": {},
   "source": [
    "# load data"
   ]
  },
  {
   "cell_type": "code",
   "execution_count": 2,
   "metadata": {
    "collapsed": false
   },
   "outputs": [
    {
     "name": "stdout",
     "output_type": "stream",
     "text": [
      "(37914, 10)\n"
     ]
    }
   ],
   "source": [
    "data = pd.read_csv(\"./Zillow-Fremont-history.csv\")\n",
    "print data.shape"
   ]
  },
  {
   "cell_type": "code",
   "execution_count": 3,
   "metadata": {
    "collapsed": false
   },
   "outputs": [
    {
     "data": {
      "text/html": [
       "<div>\n",
       "<style>\n",
       "    .dataframe thead tr:only-child th {\n",
       "        text-align: right;\n",
       "    }\n",
       "\n",
       "    .dataframe thead th {\n",
       "        text-align: left;\n",
       "    }\n",
       "\n",
       "    .dataframe tbody tr th {\n",
       "        vertical-align: top;\n",
       "    }\n",
       "</style>\n",
       "<table border=\"1\" class=\"dataframe\">\n",
       "  <thead>\n",
       "    <tr style=\"text-align: right;\">\n",
       "      <th></th>\n",
       "      <th>zipcode</th>\n",
       "      <th>area</th>\n",
       "      <th>bet</th>\n",
       "      <th>bath</th>\n",
       "      <th>sqft</th>\n",
       "      <th>type</th>\n",
       "      <th>built</th>\n",
       "      <th>daysToNow</th>\n",
       "      <th>price</th>\n",
       "    </tr>\n",
       "  </thead>\n",
       "  <tbody>\n",
       "    <tr>\n",
       "      <th>0</th>\n",
       "      <td>94555.0</td>\n",
       "      <td>Northgate</td>\n",
       "      <td>4.0</td>\n",
       "      <td>1.0</td>\n",
       "      <td>1400.0</td>\n",
       "      <td>Single Family</td>\n",
       "      <td>47.0</td>\n",
       "      <td>0.0</td>\n",
       "      <td>986436.0</td>\n",
       "    </tr>\n",
       "    <tr>\n",
       "      <th>1</th>\n",
       "      <td>94555.0</td>\n",
       "      <td>Northgate</td>\n",
       "      <td>4.0</td>\n",
       "      <td>1.0</td>\n",
       "      <td>1400.0</td>\n",
       "      <td>Single Family</td>\n",
       "      <td>47.0</td>\n",
       "      <td>6620.0</td>\n",
       "      <td>292000.0</td>\n",
       "    </tr>\n",
       "    <tr>\n",
       "      <th>2</th>\n",
       "      <td>94555.0</td>\n",
       "      <td>Northgate</td>\n",
       "      <td>4.0</td>\n",
       "      <td>1.0</td>\n",
       "      <td>1400.0</td>\n",
       "      <td>Single Family</td>\n",
       "      <td>47.0</td>\n",
       "      <td>4532.0</td>\n",
       "      <td>140000.0</td>\n",
       "    </tr>\n",
       "    <tr>\n",
       "      <th>3</th>\n",
       "      <td>94555.0</td>\n",
       "      <td>Northgate</td>\n",
       "      <td>4.0</td>\n",
       "      <td>1.0</td>\n",
       "      <td>1400.0</td>\n",
       "      <td>Single Family</td>\n",
       "      <td>47.0</td>\n",
       "      <td>NaN</td>\n",
       "      <td>NaN</td>\n",
       "    </tr>\n",
       "    <tr>\n",
       "      <th>4</th>\n",
       "      <td>94555.0</td>\n",
       "      <td>Northgate</td>\n",
       "      <td>4.0</td>\n",
       "      <td>1.0</td>\n",
       "      <td>1400.0</td>\n",
       "      <td>Single Family</td>\n",
       "      <td>47.0</td>\n",
       "      <td>NaN</td>\n",
       "      <td>NaN</td>\n",
       "    </tr>\n",
       "  </tbody>\n",
       "</table>\n",
       "</div>"
      ],
      "text/plain": [
       "   zipcode       area  bet  bath    sqft           type  built  daysToNow  \\\n",
       "0  94555.0  Northgate  4.0   1.0  1400.0  Single Family   47.0        0.0   \n",
       "1  94555.0  Northgate  4.0   1.0  1400.0  Single Family   47.0     6620.0   \n",
       "2  94555.0  Northgate  4.0   1.0  1400.0  Single Family   47.0     4532.0   \n",
       "3  94555.0  Northgate  4.0   1.0  1400.0  Single Family   47.0        NaN   \n",
       "4  94555.0  Northgate  4.0   1.0  1400.0  Single Family   47.0        NaN   \n",
       "\n",
       "      price  \n",
       "0  986436.0  \n",
       "1  292000.0  \n",
       "2  140000.0  \n",
       "3       NaN  \n",
       "4       NaN  "
      ]
     },
     "execution_count": 3,
     "metadata": {},
     "output_type": "execute_result"
    }
   ],
   "source": [
    "data.built = 2017 - data.built\n",
    "data.rename(columns={'year':'daysToNow'}, inplace=True)\n",
    "data.drop(\"house_id\", axis=1, inplace=True)\n",
    "\n",
    "data.head()"
   ]
  },
  {
   "cell_type": "markdown",
   "metadata": {},
   "source": [
    "# remove rows"
   ]
  },
  {
   "cell_type": "code",
   "execution_count": 4,
   "metadata": {
    "collapsed": false
   },
   "outputs": [
    {
     "name": "stdout",
     "output_type": "stream",
     "text": [
      "(37914, 9)\n",
      "(19618, 9)\n"
     ]
    }
   ],
   "source": [
    "print data.shape\n",
    "ind = data.isnull().sum(1) == 0\n",
    "data = data.loc[ind, :]\n",
    "print data.shape"
   ]
  },
  {
   "cell_type": "markdown",
   "metadata": {},
   "source": [
    "# convert to DF"
   ]
  },
  {
   "cell_type": "code",
   "execution_count": 5,
   "metadata": {
    "collapsed": true
   },
   "outputs": [],
   "source": [
    "cate_df = data.loc[:, [\"zipcode\", \"area\", \"bet\", \"bath\", \"type\"]]\n",
    "cont_df = data.loc[:, [\"sqft\", \"built\", \"price\"]]\n",
    "\n",
    "cate_df = cate_df.astype(\"str\")"
   ]
  },
  {
   "cell_type": "code",
   "execution_count": 6,
   "metadata": {
    "collapsed": false
   },
   "outputs": [
    {
     "name": "stdout",
     "output_type": "stream",
     "text": [
      "(19618, 52)\n"
     ]
    }
   ],
   "source": [
    "dummy_df = pd.get_dummies(cate_df)\n",
    "print dummy_df.shape"
   ]
  },
  {
   "cell_type": "code",
   "execution_count": 7,
   "metadata": {
    "collapsed": false
   },
   "outputs": [
    {
     "name": "stdout",
     "output_type": "stream",
     "text": [
      "(19618, 55)\n"
     ]
    },
    {
     "data": {
      "text/html": [
       "<div>\n",
       "<style>\n",
       "    .dataframe thead tr:only-child th {\n",
       "        text-align: right;\n",
       "    }\n",
       "\n",
       "    .dataframe thead th {\n",
       "        text-align: left;\n",
       "    }\n",
       "\n",
       "    .dataframe tbody tr th {\n",
       "        vertical-align: top;\n",
       "    }\n",
       "</style>\n",
       "<table border=\"1\" class=\"dataframe\">\n",
       "  <thead>\n",
       "    <tr style=\"text-align: right;\">\n",
       "      <th></th>\n",
       "      <th>sqft</th>\n",
       "      <th>built</th>\n",
       "      <th>price</th>\n",
       "      <th>zipcode_94536.0</th>\n",
       "      <th>zipcode_94538.0</th>\n",
       "      <th>zipcode_94539.0</th>\n",
       "      <th>zipcode_94555.0</th>\n",
       "      <th>area_28 Palms</th>\n",
       "      <th>area_Ardenwood</th>\n",
       "      <th>area_Blacow</th>\n",
       "      <th>area_Brookvale</th>\n",
       "      <th>area_Cabrillo</th>\n",
       "      <th>area_Cameron Hills</th>\n",
       "      <th>area_Canyon Heights</th>\n",
       "      <th>area_Centerville</th>\n",
       "      <th>area_Cherry-Guardino</th>\n",
       "      <th>area_Downtown</th>\n",
       "      <th>area_East Industrial</th>\n",
       "      <th>area_Glenmoor</th>\n",
       "      <th>area_Grimmer</th>\n",
       "      <th>area_Irvington</th>\n",
       "      <th>area_Kimber-Gomes</th>\n",
       "      <th>area_Lakes and Birds</th>\n",
       "      <th>area_Mission Hills</th>\n",
       "      <th>area_Mission San Jose</th>\n",
       "      <th>area_Mission Valley</th>\n",
       "      <th>area_Niles</th>\n",
       "      <th>area_Northgate</th>\n",
       "      <th>area_Parkmont</th>\n",
       "      <th>area_South Sundale</th>\n",
       "      <th>area_Sundale</th>\n",
       "      <th>area_Vineyards-Avalon</th>\n",
       "      <th>area_Warm Springs</th>\n",
       "      <th>area_Weibel</th>\n",
       "      <th>bet_1.0</th>\n",
       "      <th>bet_2.0</th>\n",
       "      <th>bet_3.0</th>\n",
       "      <th>bet_4.0</th>\n",
       "      <th>bet_5.0</th>\n",
       "      <th>bet_6.0</th>\n",
       "      <th>bath_0.5</th>\n",
       "      <th>bath_1.0</th>\n",
       "      <th>bath_1.5</th>\n",
       "      <th>bath_2.0</th>\n",
       "      <th>bath_2.5</th>\n",
       "      <th>bath_3.0</th>\n",
       "      <th>bath_3.5</th>\n",
       "      <th>bath_4.0</th>\n",
       "      <th>bath_4.5</th>\n",
       "      <th>bath_5.0</th>\n",
       "      <th>bath_5.5</th>\n",
       "      <th>bath_6.0</th>\n",
       "      <th>type_Condo</th>\n",
       "      <th>type_Single Family</th>\n",
       "      <th>type_Townhouse</th>\n",
       "    </tr>\n",
       "  </thead>\n",
       "  <tbody>\n",
       "    <tr>\n",
       "      <th>0</th>\n",
       "      <td>1400.0</td>\n",
       "      <td>47.0</td>\n",
       "      <td>986436.0</td>\n",
       "      <td>0</td>\n",
       "      <td>0</td>\n",
       "      <td>0</td>\n",
       "      <td>1</td>\n",
       "      <td>0</td>\n",
       "      <td>0</td>\n",
       "      <td>0</td>\n",
       "      <td>0</td>\n",
       "      <td>0</td>\n",
       "      <td>0</td>\n",
       "      <td>0</td>\n",
       "      <td>0</td>\n",
       "      <td>0</td>\n",
       "      <td>0</td>\n",
       "      <td>0</td>\n",
       "      <td>0</td>\n",
       "      <td>0</td>\n",
       "      <td>0</td>\n",
       "      <td>0</td>\n",
       "      <td>0</td>\n",
       "      <td>0</td>\n",
       "      <td>0</td>\n",
       "      <td>0</td>\n",
       "      <td>0</td>\n",
       "      <td>1</td>\n",
       "      <td>0</td>\n",
       "      <td>0</td>\n",
       "      <td>0</td>\n",
       "      <td>0</td>\n",
       "      <td>0</td>\n",
       "      <td>0</td>\n",
       "      <td>0</td>\n",
       "      <td>0</td>\n",
       "      <td>0</td>\n",
       "      <td>1</td>\n",
       "      <td>0</td>\n",
       "      <td>0</td>\n",
       "      <td>0</td>\n",
       "      <td>1</td>\n",
       "      <td>0</td>\n",
       "      <td>0</td>\n",
       "      <td>0</td>\n",
       "      <td>0</td>\n",
       "      <td>0</td>\n",
       "      <td>0</td>\n",
       "      <td>0</td>\n",
       "      <td>0</td>\n",
       "      <td>0</td>\n",
       "      <td>0</td>\n",
       "      <td>0</td>\n",
       "      <td>1</td>\n",
       "      <td>0</td>\n",
       "    </tr>\n",
       "    <tr>\n",
       "      <th>1</th>\n",
       "      <td>1400.0</td>\n",
       "      <td>47.0</td>\n",
       "      <td>292000.0</td>\n",
       "      <td>0</td>\n",
       "      <td>0</td>\n",
       "      <td>0</td>\n",
       "      <td>1</td>\n",
       "      <td>0</td>\n",
       "      <td>0</td>\n",
       "      <td>0</td>\n",
       "      <td>0</td>\n",
       "      <td>0</td>\n",
       "      <td>0</td>\n",
       "      <td>0</td>\n",
       "      <td>0</td>\n",
       "      <td>0</td>\n",
       "      <td>0</td>\n",
       "      <td>0</td>\n",
       "      <td>0</td>\n",
       "      <td>0</td>\n",
       "      <td>0</td>\n",
       "      <td>0</td>\n",
       "      <td>0</td>\n",
       "      <td>0</td>\n",
       "      <td>0</td>\n",
       "      <td>0</td>\n",
       "      <td>0</td>\n",
       "      <td>1</td>\n",
       "      <td>0</td>\n",
       "      <td>0</td>\n",
       "      <td>0</td>\n",
       "      <td>0</td>\n",
       "      <td>0</td>\n",
       "      <td>0</td>\n",
       "      <td>0</td>\n",
       "      <td>0</td>\n",
       "      <td>0</td>\n",
       "      <td>1</td>\n",
       "      <td>0</td>\n",
       "      <td>0</td>\n",
       "      <td>0</td>\n",
       "      <td>1</td>\n",
       "      <td>0</td>\n",
       "      <td>0</td>\n",
       "      <td>0</td>\n",
       "      <td>0</td>\n",
       "      <td>0</td>\n",
       "      <td>0</td>\n",
       "      <td>0</td>\n",
       "      <td>0</td>\n",
       "      <td>0</td>\n",
       "      <td>0</td>\n",
       "      <td>0</td>\n",
       "      <td>1</td>\n",
       "      <td>0</td>\n",
       "    </tr>\n",
       "    <tr>\n",
       "      <th>2</th>\n",
       "      <td>1400.0</td>\n",
       "      <td>47.0</td>\n",
       "      <td>140000.0</td>\n",
       "      <td>0</td>\n",
       "      <td>0</td>\n",
       "      <td>0</td>\n",
       "      <td>1</td>\n",
       "      <td>0</td>\n",
       "      <td>0</td>\n",
       "      <td>0</td>\n",
       "      <td>0</td>\n",
       "      <td>0</td>\n",
       "      <td>0</td>\n",
       "      <td>0</td>\n",
       "      <td>0</td>\n",
       "      <td>0</td>\n",
       "      <td>0</td>\n",
       "      <td>0</td>\n",
       "      <td>0</td>\n",
       "      <td>0</td>\n",
       "      <td>0</td>\n",
       "      <td>0</td>\n",
       "      <td>0</td>\n",
       "      <td>0</td>\n",
       "      <td>0</td>\n",
       "      <td>0</td>\n",
       "      <td>0</td>\n",
       "      <td>1</td>\n",
       "      <td>0</td>\n",
       "      <td>0</td>\n",
       "      <td>0</td>\n",
       "      <td>0</td>\n",
       "      <td>0</td>\n",
       "      <td>0</td>\n",
       "      <td>0</td>\n",
       "      <td>0</td>\n",
       "      <td>0</td>\n",
       "      <td>1</td>\n",
       "      <td>0</td>\n",
       "      <td>0</td>\n",
       "      <td>0</td>\n",
       "      <td>1</td>\n",
       "      <td>0</td>\n",
       "      <td>0</td>\n",
       "      <td>0</td>\n",
       "      <td>0</td>\n",
       "      <td>0</td>\n",
       "      <td>0</td>\n",
       "      <td>0</td>\n",
       "      <td>0</td>\n",
       "      <td>0</td>\n",
       "      <td>0</td>\n",
       "      <td>0</td>\n",
       "      <td>1</td>\n",
       "      <td>0</td>\n",
       "    </tr>\n",
       "    <tr>\n",
       "      <th>6</th>\n",
       "      <td>1042.0</td>\n",
       "      <td>45.0</td>\n",
       "      <td>535006.0</td>\n",
       "      <td>0</td>\n",
       "      <td>1</td>\n",
       "      <td>0</td>\n",
       "      <td>0</td>\n",
       "      <td>0</td>\n",
       "      <td>0</td>\n",
       "      <td>0</td>\n",
       "      <td>0</td>\n",
       "      <td>0</td>\n",
       "      <td>0</td>\n",
       "      <td>0</td>\n",
       "      <td>0</td>\n",
       "      <td>0</td>\n",
       "      <td>1</td>\n",
       "      <td>0</td>\n",
       "      <td>0</td>\n",
       "      <td>0</td>\n",
       "      <td>0</td>\n",
       "      <td>0</td>\n",
       "      <td>0</td>\n",
       "      <td>0</td>\n",
       "      <td>0</td>\n",
       "      <td>0</td>\n",
       "      <td>0</td>\n",
       "      <td>0</td>\n",
       "      <td>0</td>\n",
       "      <td>0</td>\n",
       "      <td>0</td>\n",
       "      <td>0</td>\n",
       "      <td>0</td>\n",
       "      <td>0</td>\n",
       "      <td>0</td>\n",
       "      <td>1</td>\n",
       "      <td>0</td>\n",
       "      <td>0</td>\n",
       "      <td>0</td>\n",
       "      <td>0</td>\n",
       "      <td>0</td>\n",
       "      <td>0</td>\n",
       "      <td>0</td>\n",
       "      <td>1</td>\n",
       "      <td>0</td>\n",
       "      <td>0</td>\n",
       "      <td>0</td>\n",
       "      <td>0</td>\n",
       "      <td>0</td>\n",
       "      <td>0</td>\n",
       "      <td>0</td>\n",
       "      <td>0</td>\n",
       "      <td>1</td>\n",
       "      <td>0</td>\n",
       "      <td>0</td>\n",
       "    </tr>\n",
       "    <tr>\n",
       "      <th>7</th>\n",
       "      <td>1042.0</td>\n",
       "      <td>45.0</td>\n",
       "      <td>225000.0</td>\n",
       "      <td>0</td>\n",
       "      <td>1</td>\n",
       "      <td>0</td>\n",
       "      <td>0</td>\n",
       "      <td>0</td>\n",
       "      <td>0</td>\n",
       "      <td>0</td>\n",
       "      <td>0</td>\n",
       "      <td>0</td>\n",
       "      <td>0</td>\n",
       "      <td>0</td>\n",
       "      <td>0</td>\n",
       "      <td>0</td>\n",
       "      <td>1</td>\n",
       "      <td>0</td>\n",
       "      <td>0</td>\n",
       "      <td>0</td>\n",
       "      <td>0</td>\n",
       "      <td>0</td>\n",
       "      <td>0</td>\n",
       "      <td>0</td>\n",
       "      <td>0</td>\n",
       "      <td>0</td>\n",
       "      <td>0</td>\n",
       "      <td>0</td>\n",
       "      <td>0</td>\n",
       "      <td>0</td>\n",
       "      <td>0</td>\n",
       "      <td>0</td>\n",
       "      <td>0</td>\n",
       "      <td>0</td>\n",
       "      <td>0</td>\n",
       "      <td>1</td>\n",
       "      <td>0</td>\n",
       "      <td>0</td>\n",
       "      <td>0</td>\n",
       "      <td>0</td>\n",
       "      <td>0</td>\n",
       "      <td>0</td>\n",
       "      <td>0</td>\n",
       "      <td>1</td>\n",
       "      <td>0</td>\n",
       "      <td>0</td>\n",
       "      <td>0</td>\n",
       "      <td>0</td>\n",
       "      <td>0</td>\n",
       "      <td>0</td>\n",
       "      <td>0</td>\n",
       "      <td>0</td>\n",
       "      <td>1</td>\n",
       "      <td>0</td>\n",
       "      <td>0</td>\n",
       "    </tr>\n",
       "  </tbody>\n",
       "</table>\n",
       "</div>"
      ],
      "text/plain": [
       "     sqft  built     price  zipcode_94536.0  zipcode_94538.0  zipcode_94539.0  \\\n",
       "0  1400.0   47.0  986436.0                0                0                0   \n",
       "1  1400.0   47.0  292000.0                0                0                0   \n",
       "2  1400.0   47.0  140000.0                0                0                0   \n",
       "6  1042.0   45.0  535006.0                0                1                0   \n",
       "7  1042.0   45.0  225000.0                0                1                0   \n",
       "\n",
       "   zipcode_94555.0  area_28 Palms  area_Ardenwood  area_Blacow  \\\n",
       "0                1              0               0            0   \n",
       "1                1              0               0            0   \n",
       "2                1              0               0            0   \n",
       "6                0              0               0            0   \n",
       "7                0              0               0            0   \n",
       "\n",
       "   area_Brookvale  area_Cabrillo  area_Cameron Hills  area_Canyon Heights  \\\n",
       "0               0              0                   0                    0   \n",
       "1               0              0                   0                    0   \n",
       "2               0              0                   0                    0   \n",
       "6               0              0                   0                    0   \n",
       "7               0              0                   0                    0   \n",
       "\n",
       "   area_Centerville  area_Cherry-Guardino  area_Downtown  \\\n",
       "0                 0                     0              0   \n",
       "1                 0                     0              0   \n",
       "2                 0                     0              0   \n",
       "6                 0                     0              1   \n",
       "7                 0                     0              1   \n",
       "\n",
       "   area_East Industrial  area_Glenmoor  area_Grimmer  area_Irvington  \\\n",
       "0                     0              0             0               0   \n",
       "1                     0              0             0               0   \n",
       "2                     0              0             0               0   \n",
       "6                     0              0             0               0   \n",
       "7                     0              0             0               0   \n",
       "\n",
       "   area_Kimber-Gomes  area_Lakes and Birds  area_Mission Hills  \\\n",
       "0                  0                     0                   0   \n",
       "1                  0                     0                   0   \n",
       "2                  0                     0                   0   \n",
       "6                  0                     0                   0   \n",
       "7                  0                     0                   0   \n",
       "\n",
       "   area_Mission San Jose  area_Mission Valley  area_Niles  area_Northgate  \\\n",
       "0                      0                    0           0               1   \n",
       "1                      0                    0           0               1   \n",
       "2                      0                    0           0               1   \n",
       "6                      0                    0           0               0   \n",
       "7                      0                    0           0               0   \n",
       "\n",
       "   area_Parkmont  area_South Sundale  area_Sundale  area_Vineyards-Avalon  \\\n",
       "0              0                   0             0                      0   \n",
       "1              0                   0             0                      0   \n",
       "2              0                   0             0                      0   \n",
       "6              0                   0             0                      0   \n",
       "7              0                   0             0                      0   \n",
       "\n",
       "   area_Warm Springs  area_Weibel  bet_1.0  bet_2.0  bet_3.0  bet_4.0  \\\n",
       "0                  0            0        0        0        0        1   \n",
       "1                  0            0        0        0        0        1   \n",
       "2                  0            0        0        0        0        1   \n",
       "6                  0            0        0        1        0        0   \n",
       "7                  0            0        0        1        0        0   \n",
       "\n",
       "   bet_5.0  bet_6.0  bath_0.5  bath_1.0  bath_1.5  bath_2.0  bath_2.5  \\\n",
       "0        0        0         0         1         0         0         0   \n",
       "1        0        0         0         1         0         0         0   \n",
       "2        0        0         0         1         0         0         0   \n",
       "6        0        0         0         0         0         1         0   \n",
       "7        0        0         0         0         0         1         0   \n",
       "\n",
       "   bath_3.0  bath_3.5  bath_4.0  bath_4.5  bath_5.0  bath_5.5  bath_6.0  \\\n",
       "0         0         0         0         0         0         0         0   \n",
       "1         0         0         0         0         0         0         0   \n",
       "2         0         0         0         0         0         0         0   \n",
       "6         0         0         0         0         0         0         0   \n",
       "7         0         0         0         0         0         0         0   \n",
       "\n",
       "   type_Condo  type_Single Family  type_Townhouse  \n",
       "0           0                   1               0  \n",
       "1           0                   1               0  \n",
       "2           0                   1               0  \n",
       "6           1                   0               0  \n",
       "7           1                   0               0  "
      ]
     },
     "execution_count": 7,
     "metadata": {},
     "output_type": "execute_result"
    }
   ],
   "source": [
    "df_full = pd.concat([cont_df, dummy_df], axis=1)\n",
    "print df_full.shape\n",
    "df_full.head()"
   ]
  },
  {
   "cell_type": "markdown",
   "metadata": {},
   "source": [
    "# model"
   ]
  },
  {
   "cell_type": "code",
   "execution_count": 8,
   "metadata": {
    "collapsed": true
   },
   "outputs": [],
   "source": [
    "from sklearn import linear_model\n",
    "from sklearn.model_selection import cross_val_score, cross_val_predict\n",
    "from sklearn.metrics import mean_squared_error\n",
    "from sklearn.ensemble import RandomForestRegressor"
   ]
  },
  {
   "cell_type": "code",
   "execution_count": 9,
   "metadata": {
    "collapsed": false
   },
   "outputs": [
    {
     "name": "stdout",
     "output_type": "stream",
     "text": [
      "(19618, 54)\n",
      "(19618,)\n"
     ]
    }
   ],
   "source": [
    "X = df_full.drop('price', 1)\n",
    "y = df_full.price\n",
    "print X.shape\n",
    "print y.shape"
   ]
  },
  {
   "cell_type": "markdown",
   "metadata": {},
   "source": [
    "### LR"
   ]
  },
  {
   "cell_type": "code",
   "execution_count": 10,
   "metadata": {
    "collapsed": false
   },
   "outputs": [
    {
     "data": {
      "text/plain": [
       "<matplotlib.text.Text at 0x11f04b550>"
      ]
     },
     "execution_count": 10,
     "metadata": {},
     "output_type": "execute_result"
    },
    {
     "data": {
      "image/png": "[encoded data removed]",
      "text/plain": [
       "<matplotlib.figure.Figure at 0x10b8b9c90>"
      ]
     },
     "metadata": {},
     "output_type": "display_data"
    }
   ],
   "source": [
    "LR = linear_model.LinearRegression()\n",
    "preds = cross_val_predict(LR, X, y, cv=5)\n",
    "err = np.sqrt(mean_squared_error(y_pred=preds, y_true=y))\n",
    "plt.scatter(x=y, y=preds)\n",
    "plt.scatter(x=y,y=y, marker=\".\")\n",
    "plt.xlabel(\"true\")\n",
    "plt.ylabel(\"pred\")\n",
    "plt.title(\"logistic: \"+str(err))"
   ]
  },
  {
   "cell_type": "markdown",
   "metadata": {},
   "source": [
    "### RF"
   ]
  },
  {
   "cell_type": "code",
   "execution_count": 11,
   "metadata": {
    "collapsed": false
   },
   "outputs": [
    {
     "data": {
      "text/plain": [
       "<matplotlib.text.Text at 0x11f215990>"
      ]
     },
     "execution_count": 11,
     "metadata": {},
     "output_type": "execute_result"
    },
    {
     "data": {
      "image/png": "[encoded data removed]",
      "text/plain": [
       "<matplotlib.figure.Figure at 0x11f0b8f50>"
      ]
     },
     "metadata": {},
     "output_type": "display_data"
    }
   ],
   "source": [
    "rep = 10\n",
    "mat = []\n",
    "for i in xrange(rep):\n",
    "    RF = RandomForestRegressor()\n",
    "    pred = cross_val_predict(RF, X, y, cv=5)\n",
    "    mat.append(pred)\n",
    "preds = np.array(mat).mean(0)\n",
    "err = np.sqrt(mean_squared_error(y_pred=preds, y_true=y))\n",
    "plt.scatter(x=y, y=preds)\n",
    "plt.scatter(x=y,y=y, marker=\".\")\n",
    "plt.xlabel(\"true\")\n",
    "plt.ylabel(\"pred\")\n",
    "plt.title(\"logistic: \"+str(err))"
   ]
  },
  {
   "cell_type": "code",
   "execution_count": 12,
   "metadata": {
    "collapsed": false
   },
   "outputs": [
    {
     "data": {
      "text/html": [
       "<div>\n",
       "<style>\n",
       "    .dataframe thead tr:only-child th {\n",
       "        text-align: right;\n",
       "    }\n",
       "\n",
       "    .dataframe thead th {\n",
       "        text-align: left;\n",
       "    }\n",
       "\n",
       "    .dataframe tbody tr th {\n",
       "        vertical-align: top;\n",
       "    }\n",
       "</style>\n",
       "<table border=\"1\" class=\"dataframe\">\n",
       "  <thead>\n",
       "    <tr style=\"text-align: right;\">\n",
       "      <th></th>\n",
       "      <th>feature</th>\n",
       "      <th>importance</th>\n",
       "    </tr>\n",
       "  </thead>\n",
       "  <tbody>\n",
       "    <tr>\n",
       "      <th>0</th>\n",
       "      <td>sqft</td>\n",
       "      <td>0.567714</td>\n",
       "    </tr>\n",
       "    <tr>\n",
       "      <th>4</th>\n",
       "      <td>zipcode_94539.0</td>\n",
       "      <td>0.128626</td>\n",
       "    </tr>\n",
       "    <tr>\n",
       "      <th>1</th>\n",
       "      <td>built</td>\n",
       "      <td>0.104718</td>\n",
       "    </tr>\n",
       "    <tr>\n",
       "      <th>52</th>\n",
       "      <td>type_Single Family</td>\n",
       "      <td>0.074826</td>\n",
       "    </tr>\n",
       "    <tr>\n",
       "      <th>42</th>\n",
       "      <td>bath_2.0</td>\n",
       "      <td>0.008125</td>\n",
       "    </tr>\n",
       "    <tr>\n",
       "      <th>44</th>\n",
       "      <td>bath_3.0</td>\n",
       "      <td>0.007284</td>\n",
       "    </tr>\n",
       "    <tr>\n",
       "      <th>36</th>\n",
       "      <td>bet_4.0</td>\n",
       "      <td>0.006757</td>\n",
       "    </tr>\n",
       "    <tr>\n",
       "      <th>43</th>\n",
       "      <td>bath_2.5</td>\n",
       "      <td>0.005538</td>\n",
       "    </tr>\n",
       "    <tr>\n",
       "      <th>35</th>\n",
       "      <td>bet_3.0</td>\n",
       "      <td>0.005408</td>\n",
       "    </tr>\n",
       "    <tr>\n",
       "      <th>37</th>\n",
       "      <td>bet_5.0</td>\n",
       "      <td>0.004603</td>\n",
       "    </tr>\n",
       "    <tr>\n",
       "      <th>31</th>\n",
       "      <td>area_Warm Springs</td>\n",
       "      <td>0.004444</td>\n",
       "    </tr>\n",
       "    <tr>\n",
       "      <th>40</th>\n",
       "      <td>bath_1.0</td>\n",
       "      <td>0.004219</td>\n",
       "    </tr>\n",
       "    <tr>\n",
       "      <th>23</th>\n",
       "      <td>area_Mission San Jose</td>\n",
       "      <td>0.003921</td>\n",
       "    </tr>\n",
       "    <tr>\n",
       "      <th>34</th>\n",
       "      <td>bet_2.0</td>\n",
       "      <td>0.003765</td>\n",
       "    </tr>\n",
       "    <tr>\n",
       "      <th>41</th>\n",
       "      <td>bath_1.5</td>\n",
       "      <td>0.003301</td>\n",
       "    </tr>\n",
       "    <tr>\n",
       "      <th>46</th>\n",
       "      <td>bath_4.0</td>\n",
       "      <td>0.003265</td>\n",
       "    </tr>\n",
       "    <tr>\n",
       "      <th>17</th>\n",
       "      <td>area_Glenmoor</td>\n",
       "      <td>0.002833</td>\n",
       "    </tr>\n",
       "    <tr>\n",
       "      <th>20</th>\n",
       "      <td>area_Kimber-Gomes</td>\n",
       "      <td>0.002744</td>\n",
       "    </tr>\n",
       "    <tr>\n",
       "      <th>13</th>\n",
       "      <td>area_Centerville</td>\n",
       "      <td>0.002713</td>\n",
       "    </tr>\n",
       "    <tr>\n",
       "      <th>53</th>\n",
       "      <td>type_Townhouse</td>\n",
       "      <td>0.002656</td>\n",
       "    </tr>\n",
       "  </tbody>\n",
       "</table>\n",
       "</div>"
      ],
      "text/plain": [
       "                  feature  importance\n",
       "0                    sqft    0.567714\n",
       "4         zipcode_94539.0    0.128626\n",
       "1                   built    0.104718\n",
       "52     type_Single Family    0.074826\n",
       "42               bath_2.0    0.008125\n",
       "44               bath_3.0    0.007284\n",
       "36                bet_4.0    0.006757\n",
       "43               bath_2.5    0.005538\n",
       "35                bet_3.0    0.005408\n",
       "37                bet_5.0    0.004603\n",
       "31      area_Warm Springs    0.004444\n",
       "40               bath_1.0    0.004219\n",
       "23  area_Mission San Jose    0.003921\n",
       "34                bet_2.0    0.003765\n",
       "41               bath_1.5    0.003301\n",
       "46               bath_4.0    0.003265\n",
       "17          area_Glenmoor    0.002833\n",
       "20      area_Kimber-Gomes    0.002744\n",
       "13       area_Centerville    0.002713\n",
       "53         type_Townhouse    0.002656"
      ]
     },
     "execution_count": 12,
     "metadata": {},
     "output_type": "execute_result"
    }
   ],
   "source": [
    "RF.fit(X,y)\n",
    "pd.DataFrame(zip(X.columns, RF.feature_importances_), columns=[\"feature\", \"importance\"]).sort_values(\"importance\", ascending=False).head(20)"
   ]
  },
  {
   "cell_type": "markdown",
   "metadata": {},
   "source": [
    "# visualization"
   ]
  },
  {
   "cell_type": "code",
   "execution_count": 13,
   "metadata": {
    "collapsed": false
   },
   "outputs": [
    {
     "data": {
      "text/plain": [
       "<matplotlib.collections.PathCollection at 0x11eb8d350>"
      ]
     },
     "execution_count": 13,
     "metadata": {},
     "output_type": "execute_result"
    },
    {
     "data": {
      "image/png": "[encoded data removed]",
      "text/plain": [
       "<matplotlib.figure.Figure at 0x118483a90>"
      ]
     },
     "metadata": {},
     "output_type": "display_data"
    }
   ],
   "source": [
    "plt.scatter(x=data.sqft, y=data.price)"
   ]
  },
  {
   "cell_type": "code",
   "execution_count": 15,
   "metadata": {
    "collapsed": false
   },
   "outputs": [
    {
     "data": {
      "text/plain": [
       "<matplotlib.collections.PathCollection at 0x11ed1ea10>"
      ]
     },
     "execution_count": 15,
     "metadata": {},
     "output_type": "execute_result"
    },
    {
     "data": {
      "image/png": "[encoded data removed]",
      "text/plain": [
       "<matplotlib.figure.Figure at 0x11ec23850>"
      ]
     },
     "metadata": {},
     "output_type": "display_data"
    }
   ],
   "source": [
    "plt.scatter(x=data.daysToNow, y=data.price)"
   ]
  }
 ],
 "metadata": {
  "kernelspec": {
   "display_name": "Python 2",
   "language": "python",
   "name": "python2"
  },
  "language_info": {
   "codemirror_mode": {
    "name": "ipython",
    "version": 2
   },
   "file_extension": ".py",
   "mimetype": "text/x-python",
   "name": "python",
   "nbconvert_exporter": "python",
   "pygments_lexer": "ipython2",
   "version": "2.7.13"
  }
 },
 "nbformat": 4,
 "nbformat_minor": 2
}
